{
 "cells": [
  {
   "cell_type": "markdown",
   "id": "c35dd555",
   "metadata": {},
   "source": [
    "### Calibration of gain corrections"
   ]
  },
  {
   "cell_type": "code",
   "execution_count": 1,
   "id": "8c8f4b8e",
   "metadata": {},
   "outputs": [],
   "source": [
    "import sys\n",
    "sys.path.insert(0,'python/')\n",
    "\n",
    "from Calibration import Calibration\n",
    "\n",
    "import numpy as np\n",
    "import matplotlib.pyplot as plt\n",
    "from scipy.signal import find_peaks\n"
   ]
  },
  {
   "cell_type": "markdown",
   "id": "9aad512e",
   "metadata": {},
   "source": [
    "#### Process the selected data"
   ]
  },
  {
   "cell_type": "code",
   "execution_count": 2,
   "id": "7313a152",
   "metadata": {},
   "outputs": [
    {
     "name": "stdout",
     "output_type": "stream",
     "text": [
      "DT5550:: Data recorded with config:  C:/data/20220110_165917\\config_20220110_165917.json\n",
      "Calibration::calculate_time_offsets:: Begin....\n",
      "DT5550:: Open data file: C:/data/20220110_165917\\data_20220110_165917_0.raw\n",
      "DT5550:: Open data file: C:/data/20220110_165917\\data_20220110_165917_1.raw\n",
      "DT5550:: Open data file: C:/data/20220110_165917\\data_20220110_165917_10.raw\n",
      "DT5550:: Open data file: C:/data/20220110_165917\\data_20220110_165917_11.raw\n",
      "DT5550:: Open data file: C:/data/20220110_165917\\data_20220110_165917_12.raw\n",
      "DT5550:: Open data file: C:/data/20220110_165917\\data_20220110_165917_13.raw\n",
      "DT5550:: Open data file: C:/data/20220110_165917\\data_20220110_165917_14.raw\n",
      "DT5550:: Open data file: C:/data/20220110_165917\\data_20220110_165917_15.raw\n",
      "DT5550:: Open data file: C:/data/20220110_165917\\data_20220110_165917_16.raw\n",
      "DT5550:: Open data file: C:/data/20220110_165917\\data_20220110_165917_17.raw\n",
      "DT5550:: Open data file: C:/data/20220110_165917\\data_20220110_165917_18.raw\n",
      "DT5550:: Open data file: C:/data/20220110_165917\\data_20220110_165917_19.raw\n",
      "DT5550:: Open data file: C:/data/20220110_165917\\data_20220110_165917_2.raw\n",
      "DT5550:: Open data file: C:/data/20220110_165917\\data_20220110_165917_20.raw\n",
      "DT5550:: Open data file: C:/data/20220110_165917\\data_20220110_165917_21.raw\n",
      "DT5550:: Open data file: C:/data/20220110_165917\\data_20220110_165917_22.raw\n",
      "DT5550:: Open data file: C:/data/20220110_165917\\data_20220110_165917_23.raw\n",
      "DT5550:: Open data file: C:/data/20220110_165917\\data_20220110_165917_24.raw\n",
      "DT5550:: Open data file: C:/data/20220110_165917\\data_20220110_165917_26.raw\n",
      "DT5550:: Open data file: C:/data/20220110_165917\\data_20220110_165917_27.raw\n",
      "DT5550:: Open data file: C:/data/20220110_165917\\data_20220110_165917_28.raw\n",
      "DT5550:: Open data file: C:/data/20220110_165917\\data_20220110_165917_29.raw\n",
      "DT5550:: Open data file: C:/data/20220110_165917\\data_20220110_165917_3.raw\n",
      "DT5550:: Open data file: C:/data/20220110_165917\\data_20220110_165917_30.raw\n",
      "DT5550:: Open data file: C:/data/20220110_165917\\data_20220110_165917_31.raw\n",
      "DT5550:: Open data file: C:/data/20220110_165917\\data_20220110_165917_32.raw\n",
      "DT5550:: Open data file: C:/data/20220110_165917\\data_20220110_165917_33.raw\n",
      "DT5550:: Open data file: C:/data/20220110_165917\\data_20220110_165917_34.raw\n",
      "DT5550:: Open data file: C:/data/20220110_165917\\data_20220110_165917_35.raw\n",
      "DT5550:: Open data file: C:/data/20220110_165917\\data_20220110_165917_36.raw\n",
      "DT5550:: Open data file: C:/data/20220110_165917\\data_20220110_165917_37.raw\n",
      "DT5550:: Open data file: C:/data/20220110_165917\\data_20220110_165917_38.raw\n",
      "DT5550:: Open data file: C:/data/20220110_165917\\data_20220110_165917_39.raw\n",
      "DT5550:: Open data file: C:/data/20220110_165917\\data_20220110_165917_4.raw\n",
      "DT5550:: Open data file: C:/data/20220110_165917\\data_20220110_165917_40.raw\n",
      "DT5550:: Open data file: C:/data/20220110_165917\\data_20220110_165917_41.raw\n",
      "DT5550:: Open data file: C:/data/20220110_165917\\data_20220110_165917_42.raw\n",
      "DT5550:: Open data file: C:/data/20220110_165917\\data_20220110_165917_43.raw\n",
      "DT5550:: Open data file: C:/data/20220110_165917\\data_20220110_165917_44.raw\n",
      "DT5550:: Open data file: C:/data/20220110_165917\\data_20220110_165917_45.raw\n",
      "DT5550:: Open data file: C:/data/20220110_165917\\data_20220110_165917_46.raw\n",
      "DT5550:: Open data file: C:/data/20220110_165917\\data_20220110_165917_5.raw\n",
      "DT5550:: Open data file: C:/data/20220110_165917\\data_20220110_165917_6.raw\n",
      "DT5550:: Open data file: C:/data/20220110_165917\\data_20220110_165917_7.raw\n",
      "DT5550:: Open data file: C:/data/20220110_165917\\data_20220110_165917_8.raw\n",
      "DT5550:: Open data file: C:/data/20220110_165917\\data_20220110_165917_9.raw\n",
      "Calibration::calculate_time_offsets:: Done....\n",
      "calculate_gains:: Calibrate energy scale on  Co60  peak energy = 1332.5  keV\n",
      "estimate_peak_positon:: channel  0 found  10  peaks\n",
      "estimate_peak_positon:: channel  1 found  10  peaks\n",
      "estimate_peak_positon:: channel  2 found  9  peaks\n",
      "estimate_peak_positon:: channel  3 found  9  peaks\n",
      "estimate_peak_positon:: channel  4 found  8  peaks\n",
      "estimate_peak_positon:: channel  5 found  8  peaks\n",
      "estimate_peak_positon:: channel  6 found  10  peaks\n",
      "estimate_peak_positon:: channel  7 found  10  peaks\n",
      "write_calibration:: type = gain\n",
      "write_calibration:: calibration constants to  C:/data/20220110_165917\\config_20220110_165917.json\n"
     ]
    }
   ],
   "source": [
    "# note: in order to maintain proper calibration constants all commends below should be run from within this cell)\n",
    "\n",
    "# instantiate calibration class \n",
    "myCal = Calibration(indir='C:/data/20220110_165917/')\n",
    "# myCal = Calibration(indir='../../data/20220104_154421/')\n",
    "# process the data\n",
    "myCal.process_calibration_data()\n",
    "# calculate the gain corrections\n",
    "myCal.calculate_gains(binwidth=10, plot=False, write_config=True)"
   ]
  },
  {
   "cell_type": "markdown",
   "id": "54e7e077",
   "metadata": {},
   "source": [
    "#### Plot the energy spectra\n",
    "\n",
    "Note that these are the raw energy spectra from which the gain corrections are derived. "
   ]
  },
  {
   "cell_type": "code",
   "execution_count": null,
   "id": "c5fe203b",
   "metadata": {
    "scrolled": false
   },
   "outputs": [],
   "source": [
    "myCal.plot_gain_calibration(range=(0,3000))"
   ]
  },
  {
   "cell_type": "code",
   "execution_count": null,
   "id": "2543ba5c",
   "metadata": {},
   "outputs": [],
   "source": []
  }
 ],
 "metadata": {
  "kernelspec": {
   "display_name": "Python 3 (ipykernel)",
   "language": "python",
   "name": "python3"
  },
  "language_info": {
   "codemirror_mode": {
    "name": "ipython",
    "version": 3
   },
   "file_extension": ".py",
   "mimetype": "text/x-python",
   "name": "python",
   "nbconvert_exporter": "python",
   "pygments_lexer": "ipython3",
   "version": "3.9.7"
  }
 },
 "nbformat": 4,
 "nbformat_minor": 5
}
