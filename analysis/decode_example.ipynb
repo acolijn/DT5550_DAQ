{
 "cells": [
  {
   "cell_type": "markdown",
   "metadata": {},
   "source": [
    "### Analysis software development \n",
    "\n",
    "Goal: establish smooth reading of the binary DAQ datafiles"
   ]
  },
  {
   "cell_type": "code",
   "execution_count": 47,
   "metadata": {
    "scrolled": false
   },
   "outputs": [],
   "source": [
    "import sys\n",
    "sys.path.insert(0,'python/')\n",
    "import struct\n",
    "import matplotlib.pyplot as plt\n",
    "from scipy.stats import norm\n",
    "\n",
    "import numpy as np\n",
    "# import data handling class\n",
    "from DT5550 import *\n",
    "from scipy.special import legendre\n",
    "\n",
    "# %load_ext snakeviz"
   ]
  },
  {
   "cell_type": "markdown",
   "metadata": {},
   "source": [
    "Open a datafile and read the data"
   ]
  },
  {
   "cell_type": "code",
   "execution_count": 103,
   "metadata": {
    "scrolled": false
   },
   "outputs": [
    {
     "name": "stdout",
     "output_type": "stream",
     "text": [
      "DT5550:: Data recorded with config:  C:/data/20220112_105851\\config_20220112_105851.json\n",
      "DT5550:: Open data file: C:/data/20220112_105851\\data_20220112_105851_0.raw\n",
      "DT5550:: Open data file: C:/data/20220112_105851\\data_20220112_105851_1.raw\n",
      "DT5550:: Open data file: C:/data/20220112_105851\\data_20220112_105851_2.raw\n",
      "DT5550:: Open data file: C:/data/20220112_105851\\data_20220112_105851_3.raw\n",
      "DT5550:: Open data file: C:/data/20220112_105851\\data_20220112_105851_4.raw\n",
      "DT5550:: Open data file: C:/data/20220112_105851\\data_20220112_105851_5.raw\n",
      "DT5550:: Open data file: C:/data/20220112_105851\\data_20220112_105851_6.raw\n",
      "DT5550:: Open data file: C:/data/20220112_105851\\data_20220112_105851_7.raw\n",
      "DT5550:: Open data file: C:/data/20220112_105851\\data_20220112_105851_8.raw\n",
      "DT5550:: Open data file: C:/data/20220112_105851\\data_20220112_105851_9.raw\n",
      "DT5550:: Open data file: C:/data/20220112_105851\\data_20220112_105851_10.raw\n",
      "DT5550:: Open data file: C:/data/20220112_105851\\data_20220112_105851_11.raw\n",
      "DT5550:: Open data file: C:/data/20220112_105851\\data_20220112_105851_12.raw\n",
      "DT5550:: Open data file: C:/data/20220112_105851\\data_20220112_105851_13.raw\n",
      "DT5550:: Open data file: C:/data/20220112_105851\\data_20220112_105851_14.raw\n",
      "DT5550:: Open data file: C:/data/20220112_105851\\data_20220112_105851_15.raw\n",
      "DT5550:: Open data file: C:/data/20220112_105851\\data_20220112_105851_16.raw\n",
      "DT5550:: Open data file: C:/data/20220112_105851\\data_20220112_105851_17.raw\n",
      "DT5550:: Open data file: C:/data/20220112_105851\\data_20220112_105851_18.raw\n",
      "DT5550:: Open data file: C:/data/20220112_105851\\data_20220112_105851_19.raw\n",
      "DT5550:: Open data file: C:/data/20220112_105851\\data_20220112_105851_20.raw\n",
      "DT5550:: Open data file: C:/data/20220112_105851\\data_20220112_105851_21.raw\n",
      "DT5550:: Open data file: C:/data/20220112_105851\\data_20220112_105851_22.raw\n",
      "DT5550:: Open data file: C:/data/20220112_105851\\data_20220112_105851_24.raw\n",
      "DT5550:: Open data file: C:/data/20220112_105851\\data_20220112_105851_25.raw\n",
      "DT5550:: Open data file: C:/data/20220112_105851\\data_20220112_105851_26.raw\n",
      "DT5550:: Open data file: C:/data/20220112_105851\\data_20220112_105851_27.raw\n",
      "DT5550:: Open data file: C:/data/20220112_105851\\data_20220112_105851_28.raw\n",
      "DT5550:: Open data file: C:/data/20220112_105851\\data_20220112_105851_29.raw\n",
      "DT5550:: Open data file: C:/data/20220112_105851\\data_20220112_105851_30.raw\n",
      "DT5550:: Open data file: C:/data/20220112_105851\\data_20220112_105851_31.raw\n",
      "DT5550:: Open data file: C:/data/20220112_105851\\data_20220112_105851_32.raw\n",
      "DT5550:: Open data file: C:/data/20220112_105851\\data_20220112_105851_33.raw\n",
      "DT5550:: Open data file: C:/data/20220112_105851\\data_20220112_105851_35.raw\n",
      "DT5550:: Open data file: C:/data/20220112_105851\\data_20220112_105851_36.raw\n",
      "DT5550:: Open data file: C:/data/20220112_105851\\data_20220112_105851_37.raw\n",
      "DT5550:: Open data file: C:/data/20220112_105851\\data_20220112_105851_38.raw\n",
      "DT5550:: Open data file: C:/data/20220112_105851\\data_20220112_105851_39.raw\n",
      "DT5550:: Open data file: C:/data/20220112_105851\\data_20220112_105851_40.raw\n",
      "DT5550:: Open data file: C:/data/20220112_105851\\data_20220112_105851_41.raw\n",
      "DT5550:: Open data file: C:/data/20220112_105851\\data_20220112_105851_42.raw\n",
      "DT5550:: Open data file: C:/data/20220112_105851\\data_20220112_105851_43.raw\n",
      "DT5550:: Open data file: C:/data/20220112_105851\\data_20220112_105851_44.raw\n",
      "DT5550:: Open data file: C:/data/20220112_105851\\data_20220112_105851_45.raw\n",
      "DT5550:: Open data file: C:/data/20220112_105851\\data_20220112_105851_47.raw\n",
      "DT5550:: Open data file: C:/data/20220112_105851\\data_20220112_105851_49.raw\n",
      "DT5550:: Open data file: C:/data/20220112_105851\\data_20220112_105851_50.raw\n",
      "DT5550:: Open data file: C:/data/20220112_105851\\data_20220112_105851_51.raw\n",
      "DT5550:: Open data file: C:/data/20220112_105851\\data_20220112_105851_52.raw\n",
      "DT5550:: Open data file: C:/data/20220112_105851\\data_20220112_105851_53.raw\n",
      "Processing done\n",
      "DT5550:: Data recorded with config:  C:/data/20220110_165917\\config_20220110_165917.json\n",
      "DT5550:: Open data file: C:/data/20220110_165917\\data_20220110_165917_0.raw\n",
      "DT5550:: Open data file: C:/data/20220110_165917\\data_20220110_165917_1.raw\n",
      "DT5550:: Open data file: C:/data/20220110_165917\\data_20220110_165917_2.raw\n",
      "DT5550:: Open data file: C:/data/20220110_165917\\data_20220110_165917_3.raw\n",
      "DT5550:: Open data file: C:/data/20220110_165917\\data_20220110_165917_4.raw\n",
      "DT5550:: Open data file: C:/data/20220110_165917\\data_20220110_165917_5.raw\n",
      "DT5550:: Open data file: C:/data/20220110_165917\\data_20220110_165917_6.raw\n",
      "DT5550:: Open data file: C:/data/20220110_165917\\data_20220110_165917_7.raw\n",
      "DT5550:: Open data file: C:/data/20220110_165917\\data_20220110_165917_8.raw\n",
      "DT5550:: Open data file: C:/data/20220110_165917\\data_20220110_165917_9.raw\n",
      "DT5550:: Open data file: C:/data/20220110_165917\\data_20220110_165917_10.raw\n",
      "DT5550:: Open data file: C:/data/20220110_165917\\data_20220110_165917_11.raw\n",
      "DT5550:: Open data file: C:/data/20220110_165917\\data_20220110_165917_12.raw\n",
      "DT5550:: Open data file: C:/data/20220110_165917\\data_20220110_165917_13.raw\n",
      "DT5550:: Open data file: C:/data/20220110_165917\\data_20220110_165917_14.raw\n",
      "DT5550:: Open data file: C:/data/20220110_165917\\data_20220110_165917_15.raw\n",
      "DT5550:: Open data file: C:/data/20220110_165917\\data_20220110_165917_16.raw\n",
      "DT5550:: Open data file: C:/data/20220110_165917\\data_20220110_165917_17.raw\n",
      "DT5550:: Open data file: C:/data/20220110_165917\\data_20220110_165917_18.raw\n",
      "DT5550:: Open data file: C:/data/20220110_165917\\data_20220110_165917_19.raw\n",
      "DT5550:: Open data file: C:/data/20220110_165917\\data_20220110_165917_20.raw\n",
      "DT5550:: Open data file: C:/data/20220110_165917\\data_20220110_165917_21.raw\n",
      "DT5550:: Open data file: C:/data/20220110_165917\\data_20220110_165917_22.raw\n",
      "DT5550:: Open data file: C:/data/20220110_165917\\data_20220110_165917_23.raw\n",
      "DT5550:: Open data file: C:/data/20220110_165917\\data_20220110_165917_24.raw\n",
      "DT5550:: Open data file: C:/data/20220110_165917\\data_20220110_165917_26.raw\n",
      "DT5550:: Open data file: C:/data/20220110_165917\\data_20220110_165917_27.raw\n",
      "DT5550:: Open data file: C:/data/20220110_165917\\data_20220110_165917_28.raw\n",
      "DT5550:: Open data file: C:/data/20220110_165917\\data_20220110_165917_29.raw\n",
      "DT5550:: Open data file: C:/data/20220110_165917\\data_20220110_165917_30.raw\n",
      "DT5550:: Open data file: C:/data/20220110_165917\\data_20220110_165917_31.raw\n",
      "DT5550:: Open data file: C:/data/20220110_165917\\data_20220110_165917_32.raw\n",
      "DT5550:: Open data file: C:/data/20220110_165917\\data_20220110_165917_33.raw\n",
      "DT5550:: Open data file: C:/data/20220110_165917\\data_20220110_165917_34.raw\n",
      "DT5550:: Open data file: C:/data/20220110_165917\\data_20220110_165917_35.raw\n",
      "DT5550:: Open data file: C:/data/20220110_165917\\data_20220110_165917_36.raw\n",
      "DT5550:: Open data file: C:/data/20220110_165917\\data_20220110_165917_37.raw\n",
      "DT5550:: Open data file: C:/data/20220110_165917\\data_20220110_165917_38.raw\n",
      "DT5550:: Open data file: C:/data/20220110_165917\\data_20220110_165917_39.raw\n",
      "DT5550:: Open data file: C:/data/20220110_165917\\data_20220110_165917_40.raw\n",
      "DT5550:: Open data file: C:/data/20220110_165917\\data_20220110_165917_41.raw\n",
      "DT5550:: Open data file: C:/data/20220110_165917\\data_20220110_165917_42.raw\n",
      "DT5550:: Open data file: C:/data/20220110_165917\\data_20220110_165917_43.raw\n",
      "DT5550:: Open data file: C:/data/20220110_165917\\data_20220110_165917_44.raw\n",
      "DT5550:: Open data file: C:/data/20220110_165917\\data_20220110_165917_45.raw\n",
      "DT5550:: Open data file: C:/data/20220110_165917\\data_20220110_165917_46.raw\n",
      "Processing done\n"
     ]
    }
   ],
   "source": [
    "#\n",
    "# open the datfile / data directory\n",
    "#\n",
    "    \n",
    "#io = DT5550(indir='C:/data/20220112_105851/')\n",
    "#io = DT5550(file='C:/data/20220110_165917/data_20220110_165917_24.raw')\n",
    "\n",
    "#\n",
    "# loop over all the events\n",
    "#\n",
    "dt_max = 10\n",
    "\n",
    "Etot = []\n",
    "Etot_sel = []\n",
    "nhit_tag1173 = np.zeros(8)\n",
    "nhit_tag1330 = np.zeros(8)\n",
    "nhit_untag1173 = np.zeros(8)\n",
    "nhit_untag1330 = np.zeros(8)\n",
    "ee = []\n",
    "\n",
    "#r = [[], [], [], [], [], [], [], []]\n",
    "#for i in range(8):\n",
    "#    r.append([])\n",
    "\n",
    "nmax = 9999\n",
    "nf = 0\n",
    "idet_old = 0\n",
    "\n",
    "# untagged\n",
    "io = DT5550(indir='C:/data/20220112_105851/')\n",
    "\n",
    "for file in io.filenames:\n",
    "    io.open_data(file)\n",
    "    nf = nf + 1\n",
    "    if nf>nmax:\n",
    "        break\n",
    "    while io.read_event() == 0:\n",
    "        #\n",
    "        # data: io.Q[0:ndet-1] -> energy\n",
    "        #       io.ph[0:ndet-1] -> peak height\n",
    "        #       io.t[0:ndet-1] -> time without timewalk correction\n",
    "        #       io.tc[0:ndet-1] -> time with timewalk correction\n",
    "        #       io.valid[0:ndet-1] -> valid bit = 1 for valid data\n",
    "        \n",
    "        nh = io.valid.sum()\n",
    "        \n",
    "        # events with one or more hits\n",
    "        if nh >= 1:\n",
    "            for idet in range(8):                \n",
    "                rr = io.R[idet]\n",
    "                rmean = io.config['detector_settings'][idet]['RMEAN']\n",
    "                rsig = io.config['detector_settings'][idet]['RSIGMA']\n",
    "                if io.valid[idet] and io.Q[idet]>1100 and io.Q[idet]<1250: #and abs(rr-rmean)<2*rsig:\n",
    "                    nhit_untag1173[idet] += 1\n",
    "                if io.valid[idet] and io.Q[idet]>1250 and io.Q[idet]<1450: #and abs(rr-rmean)<2*rsig:\n",
    "                    nhit_untag1330[idet] += 1\n",
    "\n",
    "                    #idet_old = idet\n",
    "\n",
    "print('Processing done')\n",
    "\n",
    "# tagged\n",
    "io = DT5550(indir='C:/data/20220110_165917/')\n",
    "\n",
    "for file in io.filenames:\n",
    "    io.open_data(file)\n",
    "    nf = nf + 1\n",
    "    if nf>nmax:\n",
    "        break\n",
    "    while io.read_event() == 0:   \n",
    "        nh = io.valid.sum()\n",
    "\n",
    "        # events with two hits\n",
    "        if nh == 2:\n",
    "            id_sel = []\n",
    "            for idet in range(8):\n",
    "                if io.valid[idet]:\n",
    "                    id_sel.append(idet)\n",
    "                    \n",
    "            id0 = id_sel[0]\n",
    "            id1 = id_sel[1]\n",
    "            #  the total measured energy\n",
    "            Etot.append(io.Q.sum()) \n",
    "            \n",
    "            delta_t = io.tc[id1] - io.tc[id0]\n",
    "            if id0 == 0:\n",
    "                if abs(delta_t) < dt_max:\n",
    "                    Esum = io.Q[id0] + io.Q[id1]\n",
    "                    Etot_sel.append(Esum)\n",
    "                    if io.Q[id0]>1250 and io.Q[id0]<1450 and io.Q[id1]>1100 and io.Q[id1]<1250:\n",
    "                        nhit_tag1173[id1] += 1\n",
    "                    if io.Q[id0]>1100 and io.Q[id0]<1250 and io.Q[id1]>1250 and io.Q[id1]<1450:\n",
    "                        nhit_tag1330[id1] += 1\n",
    "                \n",
    "\n",
    "print('Processing done')\n",
    "\n",
    "Etot = np.array(Etot,dtype=object)\n",
    "Etot_sel = np.array(Etot_sel,dtype=object)\n",
    "ee = np.array(ee)\n",
    "#r = np.array(r, dtype=object)"
   ]
  },
  {
   "cell_type": "markdown",
   "metadata": {},
   "source": [
    "A few basic plots: integrated charge and time"
   ]
  },
  {
   "cell_type": "code",
   "execution_count": 94,
   "metadata": {
    "scrolled": true
   },
   "outputs": [],
   "source": [
    "#io.plot_all(type=\"charge\",bins=50,logy=False, range=(1000,1500))"
   ]
  },
  {
   "cell_type": "code",
   "execution_count": 95,
   "metadata": {
    "scrolled": false
   },
   "outputs": [],
   "source": [
    "#io.plot_all(type=\"time\",range=(0,250),bins=100,logy=True)"
   ]
  },
  {
   "cell_type": "code",
   "execution_count": 96,
   "metadata": {
    "scrolled": false
   },
   "outputs": [
    {
     "data": {
      "image/png": "[encoded data removed]",
      "text/plain": [
       "<Figure size 576x288 with 1 Axes>"
      ]
     },
     "metadata": {
      "needs_background": "light"
     },
     "output_type": "display_data"
    }
   ],
   "source": [
    "plt.figure(figsize=(8,4))\n",
    "\n",
    "plot_range=(1900,3500)\n",
    "plt.hist(Etot, bins=100, range=plot_range, histtype='step', color='blue', linewidth=2)\n",
    "plt.hist(Etot_sel, bins=100, range=plot_range, histtype='step', color='green', linewidth=2)\n",
    "\n",
    "plt.xlabel('$E_{tot}$ (keV)', fontsize=14)\n",
    "plt.yscale('linear')"
   ]
  },
  {
   "cell_type": "code",
   "execution_count": 97,
   "metadata": {},
   "outputs": [],
   "source": [
    "def legendre_polynomial(x,a,b,c):\n",
    "    P0 = legendre(0)\n",
    "    P2 = legendre(2)\n",
    "    P4 = legendre(4)\n",
    "    return a*(P0(x) + b*P2(x) + c*P4(x))"
   ]
  },
  {
   "cell_type": "code",
   "execution_count": 160,
   "metadata": {
    "scrolled": true
   },
   "outputs": [
    {
     "data": {
      "image/png": "[encoded data removed]",
      "text/plain": [
       "<Figure size 432x288 with 1 Axes>"
      ]
     },
     "metadata": {
      "needs_background": "light"
     },
     "output_type": "display_data"
    }
   ],
   "source": [
    "import lmfit as lm\n",
    "\n",
    "x = np.arange(1,8,1)\n",
    "theta = (7-x)*(np.pi/12)+np.pi/2\n",
    "cost = abs(np.cos(theta))\n",
    "\n",
    "data = nhit_tag1330[1:8]\n",
    "#data = nhit_tag1173[1:8]\n",
    "\n",
    "#corr = (nhit_untag1173[1:8]+nhit_untag1330[1:8])\n",
    "#corr = nhit_untag1330[1:8]\n",
    "corr = np.ones(7)\n",
    "y =  data / corr\n",
    "yerr = np.sqrt(data)/ corr\n",
    "#print(x,cost,yerr)\n",
    "\n",
    "model = lm.model.Model(legendre_polynomial)\n",
    "params = lm.Parameters()\n",
    "params.add(\"a\", value = 0.1)\n",
    "params.add(\"b\",value = 0.1)\n",
    "params.add(\"c\", value = 0.01)\n",
    "fit = model.fit(y, x=cost, weights = [1/element for element in yerr], params = params)\n",
    "\n",
    "a = fit.params[\"a\"].value\n",
    "b = fit.params[\"b\"].value\n",
    "c = fit.params[\"c\"].value\n",
    "a_err = fit.params[\"a\"].stderr\n",
    "b_err = fit.params[\"b\"].stderr\n",
    "c_err = fit.params[\"c\"].stderr\n",
    "xx = np.linspace(0.,1.,100)\n",
    "#yy = a*(P0(xx) + b*P2(xx) + c*P4(xx))\n",
    "#a = 0.03\n",
    "#b = 0.1005\n",
    "#c = 0.0094 \n",
    "txt = '$c_2$ = {:4.3f} $\\pm$ {:4.3f} \\n$c_4$ = {:4.3f} $\\pm$ {:4.3f}'.format(b,b_err,c,c_err)\n",
    "h = plt.errorbar(cost, y, yerr=yerr, fmt = 'o', color='blue', label=txt)\n",
    "plt.plot(xx, legendre_polynomial(xx, a, b, c),'-',color='red', label='fit')\n",
    "plt.plot(xx, legendre_polynomial(xx, a, 0.1005, 0.0094), '--', color='green', label='theory' )\n",
    "plt.xlabel('$\\cos \\\\theta$')\n",
    "plt.legend()\n",
    "plt.title(\"$\\gamma$ correlation in $^{60}$Co decay\")\n",
    "\n",
    "plt.show()"
   ]
  },
  {
   "cell_type": "code",
   "execution_count": 102,
   "metadata": {},
   "outputs": [
    {
     "name": "stderr",
     "output_type": "stream",
     "text": [
      "C:\\Users\\admlab\\AppData\\Local\\Temp/ipykernel_12752/1183286640.py:7: UserWarning: marker is redundantly defined by the 'marker' keyword argument and the fmt string \".\" (-> marker='.'). The keyword argument will take precedence.\n",
      "  plt.errorbar(cost, y, yerr=yerr, marker='o', fmt='.')\n"
     ]
    },
    {
     "data": {
      "text/plain": [
       "Text(0.5, 1.0, 'Theoriecurve met meetpunten')"
      ]
     },
     "execution_count": 102,
     "metadata": {},
     "output_type": "execute_result"
    },
    {
     "data": {
      "image/png": "[encoded data removed]",
      "text/plain": [
       "<Figure size 432x288 with 1 Axes>"
      ]
     },
     "metadata": {
      "needs_background": "light"
     },
     "output_type": "display_data"
    }
   ],
   "source": [
    "x = np.arange(0,8,1)\n",
    "theta = (7-x)*(np.pi/12)+np.pi/2\n",
    "cost = abs(np.cos(theta))\n",
    "\n",
    "y = nhit_tag\n",
    "yerr= np.sqrt(y)\n",
    "plt.errorbar(cost, y, yerr=yerr, marker='o', fmt='.')\n",
    "plt.ylim([5000,6500])\n",
    "P0 = legendre(0)\n",
    "P2 = legendre(2)\n",
    "P4 = legendre(4) \n",
    "xx = np.linspace(0,1,100)\n",
    "yy = 5650*(P0(xx) + 0.1005*P2(xx) + 0.0094*P4(xx))\n",
    "\n",
    "plt.plot(xx,yy,'-',color='red')\n",
    "plt.title(\"Theoriecurve met meetpunten\")"
   ]
  },
  {
   "cell_type": "code",
   "execution_count": 127,
   "metadata": {
    "scrolled": true
   },
   "outputs": [
    {
     "data": {
      "text/plain": [
       "(150000.0, 250000.0)"
      ]
     },
     "execution_count": 127,
     "metadata": {},
     "output_type": "execute_result"
    },
    {
     "data": {
      "image/png": "[encoded data removed]",
      "text/plain": [
       "<Figure size 432x288 with 1 Axes>"
      ]
     },
     "metadata": {
      "needs_background": "light"
     },
     "output_type": "display_data"
    }
   ],
   "source": [
    "plt.plot(nhit_untag1330,'v', color='green')\n",
    "plt.plot(nhit_untag1173,'o', color='green')\n",
    "\n",
    "#plt.plot(nhit_tag,'o',color='blue')\n",
    "plt.ylim([150000.,250000.])"
   ]
  },
  {
   "cell_type": "code",
   "execution_count": null,
   "metadata": {},
   "outputs": [],
   "source": [
    "np.sqrt(18000)"
   ]
  },
  {
   "cell_type": "code",
   "execution_count": 91,
   "metadata": {},
   "outputs": [
    {
     "data": {
      "text/plain": [
       "[<matplotlib.lines.Line2D at 0x21b89031610>]"
      ]
     },
     "execution_count": 91,
     "metadata": {},
     "output_type": "execute_result"
    },
    {
     "data": {
      "image/png": "[encoded data removed]",
      "text/plain": [
       "<Figure size 432x288 with 1 Axes>"
      ]
     },
     "metadata": {
      "needs_background": "light"
     },
     "output_type": "display_data"
    }
   ],
   "source": [
    "plt.plot(nhit_tag/nhit_untag,'o')\n",
    "#plt.ylim([0.025,0.04])"
   ]
  },
  {
   "cell_type": "code",
   "execution_count": null,
   "metadata": {},
   "outputs": [],
   "source": [
    "nhit_tag"
   ]
  },
  {
   "cell_type": "code",
   "execution_count": 62,
   "metadata": {},
   "outputs": [
    {
     "data": {
      "text/plain": [
       "{'version': 'Rev.C',\n",
       " 'source': 'Co60',\n",
       " 'comment': 'just work and no play makes AP a bad boy',\n",
       " 'registers': {'V_max': 1.8,\n",
       "  'nbit_adc': 14,\n",
       "  'V_offset': 0.9,\n",
       "  'Termination': 0,\n",
       "  'INTTIME': 200,\n",
       "  'PREINIT': 15,\n",
       "  'BLLEN': 8,\n",
       "  'BLHOLD': 300,\n",
       "  'WINDOW': 350,\n",
       "  'TMODE': 0,\n",
       "  'NMIN': 1,\n",
       "  'EMIN': 2000},\n",
       " 'detector_settings': [{'det_id': 0,\n",
       "   'GAIN': 1925,\n",
       "   'THRS': 50,\n",
       "   'INVERT': 1,\n",
       "   'BASE': 408,\n",
       "   'TOFF': 0,\n",
       "   'HV': 500,\n",
       "   'GCOR': 0.9971626473700236,\n",
       "   'RMEAN': 1228.5257188170874,\n",
       "   'RSIGMA': 14.790841337774614},\n",
       "  {'det_id': 1,\n",
       "   'GAIN': 2098,\n",
       "   'THRS': 50,\n",
       "   'INVERT': 1,\n",
       "   'BASE': 669,\n",
       "   'TOFF': 5,\n",
       "   'HV': 460,\n",
       "   'GCOR': 0.9964511655236329,\n",
       "   'RMEAN': 1262.7022576456782,\n",
       "   'RSIGMA': 17.204479164288443},\n",
       "  {'det_id': 2,\n",
       "   'GAIN': 1953,\n",
       "   'THRS': 50,\n",
       "   'INVERT': 1,\n",
       "   'BASE': 351,\n",
       "   'TOFF': -13,\n",
       "   'HV': 780,\n",
       "   'GCOR': 0.9998271058866147,\n",
       "   'RMEAN': 1264.8941724404026,\n",
       "   'RSIGMA': 15.525182599268952},\n",
       "  {'det_id': 3,\n",
       "   'GAIN': 1773,\n",
       "   'THRS': 50,\n",
       "   'INVERT': 1,\n",
       "   'BASE': 376,\n",
       "   'TOFF': -1,\n",
       "   'HV': 510,\n",
       "   'GCOR': 0.999026886002039,\n",
       "   'RMEAN': 1262.837965573876,\n",
       "   'RSIGMA': 19.50253531008122},\n",
       "  {'det_id': 4,\n",
       "   'GAIN': 3414,\n",
       "   'THRS': 50,\n",
       "   'INVERT': 1,\n",
       "   'BASE': 374,\n",
       "   'TOFF': -10,\n",
       "   'HV': 700,\n",
       "   'GCOR': 0.9804280658965411,\n",
       "   'RMEAN': 1243.0363710386691,\n",
       "   'RSIGMA': 17.092023834224054},\n",
       "  {'det_id': 5,\n",
       "   'GAIN': 3229,\n",
       "   'THRS': 50,\n",
       "   'INVERT': 1,\n",
       "   'BASE': 603,\n",
       "   'TOFF': 2,\n",
       "   'HV': 500,\n",
       "   'GCOR': 0.9997132754851817,\n",
       "   'RMEAN': 1192.5886811204807,\n",
       "   'RSIGMA': 17.263635503027285},\n",
       "  {'det_id': 6,\n",
       "   'GAIN': 1426,\n",
       "   'THRS': 50,\n",
       "   'INVERT': 1,\n",
       "   'BASE': 611,\n",
       "   'TOFF': -5,\n",
       "   'HV': 590,\n",
       "   'GCOR': 0.9972384661361913,\n",
       "   'RMEAN': 1265.4486135084192,\n",
       "   'RSIGMA': 16.10757027607575},\n",
       "  {'det_id': 7,\n",
       "   'GAIN': 1743,\n",
       "   'THRS': 50,\n",
       "   'INVERT': 1,\n",
       "   'BASE': 728,\n",
       "   'TOFF': 0,\n",
       "   'HV': 500,\n",
       "   'GCOR': 0.9968446197807559,\n",
       "   'RMEAN': 1263.0606965797353,\n",
       "   'RSIGMA': 16.9881739264935}],\n",
       " 'waveform_settings': {'mode': 'external',\n",
       "  'pre_trigger': 600,\n",
       "  'decimator': 0,\n",
       "  'channel': 1,\n",
       "  'threshold': 55000,\n",
       "  'edge': 'Rising'},\n",
       " 'timewalk': {'area_to_peak': 2.8281534103157497,\n",
       "  'chebyshev_order': 8,\n",
       "  'chebyshev_parameters': [1076.2007459044632,\n",
       "   -2038.6429951100986,\n",
       "   1778.1113919392137,\n",
       "   -1361.7854558203376,\n",
       "   900.0324436294418,\n",
       "   -489.4699015960241,\n",
       "   208.77755313180813,\n",
       "   -62.63254582164793,\n",
       "   10.754881739667129]}}"
      ]
     },
     "execution_count": 62,
     "metadata": {},
     "output_type": "execute_result"
    }
   ],
   "source": []
  },
  {
   "cell_type": "code",
   "execution_count": null,
   "metadata": {},
   "outputs": [],
   "source": []
  }
 ],
 "metadata": {
  "kernelspec": {
   "display_name": "Python 3 (ipykernel)",
   "language": "python",
   "name": "python3"
  },
  "language_info": {
   "codemirror_mode": {
    "name": "ipython",
    "version": 3
   },
   "file_extension": ".py",
   "mimetype": "text/x-python",
   "name": "python",
   "nbconvert_exporter": "python",
   "pygments_lexer": "ipython3",
   "version": "3.9.7"
  }
 },
 "nbformat": 4,
 "nbformat_minor": 4
}
