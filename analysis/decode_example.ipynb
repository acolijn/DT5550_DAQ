{
 "cells": [
  {
   "cell_type": "markdown",
   "metadata": {},
   "source": [
    "### Analysis software development v2 \n",
    "\n",
    "Goal: establish smooth reading of the binary DAQ datafiles"
   ]
  },
  {
   "cell_type": "code",
   "execution_count": 1,
   "metadata": {
    "scrolled": false
   },
   "outputs": [],
   "source": [
    "import sys\n",
    "sys.path.insert(0,'python/')\n",
    "import struct\n",
    "import matplotlib.pyplot as plt\n",
    "from scipy.stats import norm\n",
    "\n",
    "\n",
    "# import data handling class\n",
    "from DT5550 import *\n"
   ]
  },
  {
   "cell_type": "markdown",
   "metadata": {},
   "source": [
    "Open a datafile and read the data"
   ]
  },
  {
   "cell_type": "code",
   "execution_count": null,
   "metadata": {
    "scrolled": true
   },
   "outputs": [
    {
     "name": "stdout",
     "output_type": "stream",
     "text": [
      "DT5550:: Data recorded with config:  C:/data/20220114_094646\\config_20220114_094646.json\n",
      "DT5550:: Open data file: C:/data/20220114_094646\\data_20220114_094646_0.raw\n"
     ]
    },
    {
     "name": "stderr",
     "output_type": "stream",
     "text": [
      "python\\DT5550.py:17: NumbaWarning: \u001b[1m\n",
      "Compilation is falling back to object mode WITH looplifting enabled because Function \"word_unpack\" failed type inference due to: \u001b[1m\u001b[1m\u001b[1mNo implementation of function Function(<built-in function frombuffer>) found for signature:\n",
      " \n",
      " >>> frombuffer(readonly bytes(uint8, 1d, C), dtype=class(uint8), offset=int64)\n",
      " \n",
      "There are 4 candidate implementations:\n",
      "\u001b[1m  - Of which 4 did not match due to:\n",
      "  Overload in function '_OverloadWrapper._build.<locals>.ol_generated': File: numba\\core\\overload_glue.py: Line 131.\n",
      "    With argument(s): '(readonly bytes(uint8, 1d, C), dtype=class(uint8), offset=int64)':\u001b[0m\n",
      "\u001b[1m   Rejected as the implementation raised a specific error:\n",
      "     TypingError: Failed in nopython mode pipeline (step: nopython frontend)\n",
      "   \u001b[1m\u001b[1m\u001b[1mNo implementation of function Function(<intrinsic stub>) found for signature:\n",
      "    \n",
      "    >>> stub(readonly bytes(uint8, 1d, C), class(uint8), int64)\n",
      "    \n",
      "   There are 2 candidate implementations:\n",
      "   \u001b[1m  - Of which 2 did not match due to:\n",
      "     Intrinsic in function 'stub': File: numba\\core\\overload_glue.py: Line 35.\n",
      "       With argument(s): '(readonly bytes(uint8, 1d, C), class(uint8), int64)':\u001b[0m\n",
      "   \u001b[1m   Rejected as the implementation raised a specific error:\n",
      "        TypeError: typer() got an unexpected keyword argument 'offset'\u001b[0m\n",
      "     raised from C:\\ProgramData\\Anaconda3\\lib\\site-packages\\numba\\core\\typing\\templates.py:405\n",
      "   \u001b[0m\n",
      "   \u001b[0m\u001b[1mDuring: resolving callee type: Function(<intrinsic stub>)\u001b[0m\n",
      "   \u001b[0m\u001b[1mDuring: typing of call at <string> (3)\n",
      "   \u001b[0m\n",
      "   \u001b[1m\n",
      "   File \"<string>\", line 3:\u001b[0m\n",
      "   \u001b[1m<source missing, REPL/exec in use?>\u001b[0m\n",
      "\u001b[0m\n",
      "  raised from C:\\ProgramData\\Anaconda3\\lib\\site-packages\\numba\\core\\typeinfer.py:1074\n",
      "\u001b[0m\n",
      "\u001b[0m\u001b[1mDuring: resolving callee type: Function(<built-in function frombuffer>)\u001b[0m\n",
      "\u001b[0m\u001b[1mDuring: typing of call at python\\DT5550.py (26)\n",
      "\u001b[0m\n",
      "\u001b[1m\n",
      "File \"python\\DT5550.py\", line 26:\u001b[0m\n",
      "\u001b[1mdef word_unpack(word, ioff):\n",
      "    <source elided>\n",
      "\n",
      "\u001b[1m    value = np.frombuffer(word, dtype=np.uint8, offset=i0)[0]\n",
      "\u001b[0m    \u001b[1m^\u001b[0m\u001b[0m\n",
      "\u001b[0m\n",
      "  @nb.jit\n",
      "C:\\ProgramData\\Anaconda3\\lib\\site-packages\\numba\\core\\object_mode_passes.py:152: NumbaWarning: \u001b[1mFunction \"word_unpack\" was compiled in object mode without forceobj=True.\n",
      "\u001b[1m\n",
      "File \"python\\DT5550.py\", line 18:\u001b[0m\n",
      "\u001b[1m@nb.jit\n",
      "\u001b[1mdef word_unpack(word, ioff):\n",
      "\u001b[0m\u001b[1m^\u001b[0m\u001b[0m\n",
      "\u001b[0m\n",
      "  state.func_ir.loc))\n",
      "C:\\ProgramData\\Anaconda3\\lib\\site-packages\\numba\\core\\object_mode_passes.py:162: NumbaDeprecationWarning: \u001b[1m\n",
      "Fall-back from the nopython compilation path to the object mode compilation path has been detected, this is deprecated behaviour.\n",
      "\n",
      "For more information visit https://numba.pydata.org/numba-doc/latest/reference/deprecation.html#deprecation-of-object-mode-fall-back-behaviour-when-using-jit\n",
      "\u001b[1m\n",
      "File \"python\\DT5550.py\", line 18:\u001b[0m\n",
      "\u001b[1m@nb.jit\n",
      "\u001b[1mdef word_unpack(word, ioff):\n",
      "\u001b[0m\u001b[1m^\u001b[0m\u001b[0m\n",
      "\u001b[0m\n",
      "  state.func_ir.loc))\n"
     ]
    },
    {
     "name": "stdout",
     "output_type": "stream",
     "text": [
      "DT5550:: Open data file: C:/data/20220114_094646\\data_20220114_094646_1.raw\n",
      "DT5550:: Open data file: C:/data/20220114_094646\\data_20220114_094646_2.raw\n",
      "DT5550:: Open data file: C:/data/20220114_094646\\data_20220114_094646_3.raw\n",
      "DT5550:: Open data file: C:/data/20220114_094646\\data_20220114_094646_4.raw\n",
      "DT5550:: Open data file: C:/data/20220114_094646\\data_20220114_094646_5.raw\n",
      "DT5550:: Open data file: C:/data/20220114_094646\\data_20220114_094646_6.raw\n",
      "DT5550:: Open data file: C:/data/20220114_094646\\data_20220114_094646_7.raw\n",
      "DT5550:: Open data file: C:/data/20220114_094646\\data_20220114_094646_8.raw\n",
      "DT5550:: Open data file: C:/data/20220114_094646\\data_20220114_094646_9.raw\n",
      "DT5550:: Open data file: C:/data/20220114_094646\\data_20220114_094646_11.raw\n",
      "DT5550:: Open data file: C:/data/20220114_094646\\data_20220114_094646_12.raw\n",
      "DT5550:: Open data file: C:/data/20220114_094646\\data_20220114_094646_13.raw\n",
      "DT5550:: Open data file: C:/data/20220114_094646\\data_20220114_094646_14.raw\n",
      "DT5550:: Open data file: C:/data/20220114_094646\\data_20220114_094646_15.raw\n",
      "DT5550:: Open data file: C:/data/20220114_094646\\data_20220114_094646_16.raw\n",
      "DT5550:: Open data file: C:/data/20220114_094646\\data_20220114_094646_17.raw\n"
     ]
    }
   ],
   "source": [
    "#\n",
    "# open the datfile / data directory\n",
    "#\n",
    "    \n",
    "#\n",
    "# loop over all the events\n",
    "#\n",
    "dt_max = 10\n",
    "\n",
    "Etot = []\n",
    "tt = []\n",
    "pp = []\n",
    "for i in range(8):\n",
    "    tt.append([])\n",
    "    pp.append([])\n",
    "tdif = []\n",
    "\n",
    "nmax = 9999\n",
    "\n",
    "#    while io.read_event() == 0:\n",
    "#        #\n",
    "#        # data: io.Q[0:ndet-1] -> energy\n",
    "#        #       io.ph[0:ndet-1] -> peak height\n",
    "#        #       io.t[0:ndet-1] -> time without timewalk correction\n",
    "#        #       io.tc[0:ndet-1] -> time with timewalk correction\n",
    "#        #       io.valid[0:ndet-1] -> valid bit = 1 for valid data\n",
    "#        #       io.R[0:ndet-1] -> peak/area ratio\n",
    "\n",
    "\n",
    "# tagged\n",
    "#io = DT5550(indir='C:/data/20220118_100036')\n",
    "\n",
    "io = DT5550(indir='C:/data/20220114_094646/')\n",
    "\n",
    "nf = 0\n",
    "\n",
    "dtime = []\n",
    "for file in io.filenames:\n",
    "    io.open_data(file)\n",
    "    nf = nf + 1\n",
    "    if nf>nmax:\n",
    "        break\n",
    "    while io.read_event() == 0: \n",
    "        # data: io.Q[0:ndet-1] -> energy\n",
    "        #       io.ph[0:ndet-1] -> peak height\n",
    "        #       io.t[0:ndet-1] -> time without timewalk correction\n",
    "        #       io.tc[0:ndet-1] -> time with timewalk correction\n",
    "        #       io.valid[0:ndet-1] -> valid bit = 1 for valid data\n",
    "        #       io.R[0:ndet-1] -> peak/area ratio\n",
    "        nh = io.valid.sum()\n",
    "        \n",
    "        Etot.append(io.Qraw.sum())\n",
    "#         for idet in range(N_DETECTOR):\n",
    "#             if io.valid[idet] == 1:\n",
    "#                 tt[idet].append(io.tc[idet])\n",
    "                \n",
    "        for idet in range(8):\n",
    "            if io.valid[idet] == 1 and io.tc[idet]<100:\n",
    "                tt[idet].append(io.tc[idet])\n",
    "                pp[idet].append(io.ph[idet])\n",
    "\n",
    "        \n",
    "        tdif = []\n",
    "        if nh == 2:\n",
    "            \n",
    "            for idet in range(N_DETECTOR):\n",
    "                if io.valid[idet] == 1:\n",
    "                    tdif.append(idet)\n",
    "                    \n",
    "            peak1 = tdif[0]\n",
    "            peak2 = tdif[1]  \n",
    "            dtime.append(io.tc[peak2] - io.tc[peak1])\n",
    "            \n",
    "#         print(io.ph[6])    \n",
    "#         print(io.timewalk_correct(6))\n",
    "print('Processing done')\n",
    "\n",
    "Etot = np.array(Etot,dtype=object)\n",
    "tt = np.array(tt,dtype=object)\n",
    "pp = np.array(pp,dtype=object)\n",
    "\n",
    "\n",
    "#r = np.array(r, dtype=object)"
   ]
  },
  {
   "cell_type": "markdown",
   "metadata": {},
   "source": [
    "#### Define fit functions"
   ]
  },
  {
   "cell_type": "code",
   "execution_count": null,
   "metadata": {},
   "outputs": [],
   "source": [
    "h = plt.hist(Etot,bins=100,range=(0,3000))\n",
    "plt.yscale('log')\n",
    "\n",
    "\n",
    "print(len(Etot))"
   ]
  },
  {
   "cell_type": "code",
   "execution_count": null,
   "metadata": {
    "scrolled": false
   },
   "outputs": [],
   "source": [
    "plt.figure(figsize=(12,18))\n",
    "for idet in range(N_DETECTOR):\n",
    "    plt.subplot(4, 2, 1 + idet)\n",
    "    h = plt.hist(tt[idet],bins=100,range=(-100,500))\n",
    "    print(idet, 'n = ', len(tt[idet]))\n",
    "#     if idet == 7:\n",
    "#        print(idet,tt[idet])"
   ]
  },
  {
   "cell_type": "code",
   "execution_count": null,
   "metadata": {},
   "outputs": [],
   "source": [
    "h = plt.hist(dtime,bins=100,range=(-100,100))"
   ]
  },
  {
   "cell_type": "code",
   "execution_count": null,
   "metadata": {},
   "outputs": [],
   "source": [
    "75/1800*2**14\n"
   ]
  },
  {
   "cell_type": "code",
   "execution_count": null,
   "metadata": {},
   "outputs": [],
   "source": [
    "plt.figure(figsize=(12,18))\n",
    "for idet in range(N_DETECTOR):\n",
    "    plt.subplot(4, 2, 1 + idet)\n",
    "    h = plt.hist(pp[idet],bins=200,range=(0,10000))\n",
    "    print(idet, 'n = ', len(tt[idet]))\n",
    "#     if idet == 7:\n",
    "#        print(idet,tt[idet])"
   ]
  },
  {
   "cell_type": "code",
   "execution_count": null,
   "metadata": {},
   "outputs": [],
   "source": []
  },
  {
   "cell_type": "code",
   "execution_count": null,
   "metadata": {},
   "outputs": [],
   "source": []
  }
 ],
 "metadata": {
  "kernelspec": {
   "display_name": "Python 3 (ipykernel)",
   "language": "python",
   "name": "python3"
  },
  "language_info": {
   "codemirror_mode": {
    "name": "ipython",
    "version": 3
   },
   "file_extension": ".py",
   "mimetype": "text/x-python",
   "name": "python",
   "nbconvert_exporter": "python",
   "pygments_lexer": "ipython3",
   "version": "3.7.11"
  }
 },
 "nbformat": 4,
 "nbformat_minor": 4
}
