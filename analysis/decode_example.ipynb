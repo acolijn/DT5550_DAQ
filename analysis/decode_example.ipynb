{
 "cells": [
  {
   "cell_type": "markdown",
   "metadata": {},
   "source": [
    "### Analysis software development \n",
    "\n",
    "Goal: establish smooth reading of the binary DAQ datafiles"
   ]
  },
  {
   "cell_type": "code",
   "execution_count": 1,
   "metadata": {
    "scrolled": false
   },
   "outputs": [],
   "source": [
    "import sys\n",
    "sys.path.insert(0,'python/')\n",
    "import struct\n",
    "import matplotlib.pyplot as plt\n",
    "from scipy.stats import norm\n",
    "\n",
    "import numpy as np\n",
    "# import data handling class\n",
    "from DT5550 import *"
   ]
  },
  {
   "cell_type": "code",
   "execution_count": 2,
   "metadata": {},
   "outputs": [],
   "source": [
    "#tcorr = -np.array([0,-11,4.5,-21,46,-38,-59,-41])\n",
    "#tcorr = -np.array([0,-105,-131,-122,-208,-120,-61,-89])\n",
    "tcorr = np.array([0, 0, 0, 0, 0, 0, 0, 0])\n",
    "#gcorr = np.array([1,1,1,1,0.955,1,1,1])\n",
    "gcorr = np.array([1,1,1,1,1,1,1,1])\n",
    "#rcorr = np.array([1,1,0.989,0.9734,1.070,0.997,1.009,0.9446])\n",
    "rcorr = np.array([0.,1.,1.00990835,0.98526133,1.09747337,1.00780282,1.02724796,0.96321526])"
   ]
  },
  {
   "cell_type": "code",
   "execution_count": 3,
   "metadata": {},
   "outputs": [],
   "source": [
    "def four_gamma():\n",
    "    if io.valid.sum() == 4:\n",
    "        esum = 0\n",
    "        nsum = 0\n",
    "        tav  = 0\n",
    "        tlist = []\n",
    "        for idet in range(N_DETECTOR):\n",
    "            E = io.Q[idet]\n",
    "            if io.valid[idet]:\n",
    "                if (E>1100) and (E<1350):\n",
    "                    isel = idet\n",
    "                    tsel = io.t[idet]\n",
    "                else:\n",
    "                    esum = esum + io.Q[idet]\n",
    "                    tlist.append(io.t[idet])\n",
    "                    nsum = nsum + 1\n",
    "        \n",
    "        if nsum==3:\n",
    "            tlist = np.array(tlist)\n",
    "            tav = tlist.mean()\n",
    "            tstd = np.sqrt(tlist.var())\n",
    "            E1.append(tstd)\n",
    "            #print(tstd)\n",
    "            if tstd<100 and tsel<tav and esum>800 and esum<1200:\n",
    "                E0.append(esum)\n",
    "                t0.append(tsel)\n",
    "                t1.append(tav)\n",
    "\n",
    "                \n",
    "                \n",
    "def two_gamma():\n",
    "    #\n",
    "    # \n",
    "    #\n",
    "    \n",
    "    #\n",
    "    # demand two valid hits\n",
    "    #\n",
    "    if io.valid.sum() == 2:\n",
    "        idet_sel = []\n",
    "        #\n",
    "        # get the indices of the two hits \n",
    "        #\n",
    "        Etot = 0\n",
    "        for idet in range(N_DETECTOR):\n",
    "            Etot = Etot + io.Q[idet]\n",
    "            if io.valid[idet]:\n",
    "                idet_sel.append(idet)\n",
    "        \n",
    "        #\n",
    "        # select events in which idet=0 detected an 1173keV gamma\n",
    "        #\n",
    "\n",
    "        \n",
    "        idet_sel = np.array(idet_sel)\n",
    "        \n",
    "        if idet_sel[0] == 0 and len(idet_sel) == 2:\n",
    "            id0 = idet_sel[0]\n",
    "            id1 = idet_sel[1]\n",
    "            delta_t[id1].append(io.tc[id1]-io.tc[id0]-(tcorr[id0]-tcorr[id1]))\n",
    "        \n",
    "        if len(idet_sel) == 2 and Etot>2000:\n",
    "            E0.append(io.Q[idet_sel[0]])\n",
    "            E1.append(io.Q[idet_sel[1]])\n",
    "            t0.append(io.t[idet_sel[0]]-tcorr[idet_sel[0]])\n",
    "            t1.append(io.t[idet_sel[1]]-tcorr[idet_sel[1]])\n",
    "            t0c.append(io.tc[idet_sel[0]]-tcorr[idet_sel[0]])\n",
    "            t1c.append(io.tc[idet_sel[1]]-tcorr[idet_sel[1]])\n",
    "        \n",
    "def correlation():\n",
    "    #\n",
    "    # Co60 angular correlation study\n",
    "    #\n",
    "    \n",
    "    #\n",
    "    # demand two valid hits\n",
    "    #\n",
    "    Ed = np.zeros(N_DETECTOR)\n",
    "    Ed_old = np.zeros(N_DETECTOR)\n",
    "    \n",
    "    if io.valid.sum() == 2:\n",
    "        idet_sel = []\n",
    "        #\n",
    "        # get the indices of the two hits \n",
    "        #\n",
    "        Ed = io.Q * gcorr\n",
    "        Ed_old = io.Qold * gcorr\n",
    "\n",
    "\n",
    "        for idet in range(N_DETECTOR):\n",
    "            if io.valid[idet]:\n",
    "                idet_sel.append(idet)\n",
    "        \n",
    "        i0 = idet_sel[0]\n",
    "        i1 = idet_sel[1]\n",
    "        Es_loose.append(io.Q[i0]+io.Q[i1])\n",
    "        #\n",
    "        # select events with a 1173keV gamma ray in detector=0\n",
    "        #\n",
    "        if i0 == 0 and Ed[i0]<1250:\n",
    "            esel[i0].append(Ed[i0])\n",
    "            \n",
    "        if Ed[i0]>1000 and Ed[i0]<1300:\n",
    "            ecal[i0].append(Ed[i0])\n",
    "        if Ed[i1]>1000 and Ed[i1]<1300:\n",
    "            ecal[i1].append(Ed[i1])\n",
    "\n",
    "        if i0 == 0 and Ed[i0]>1100 and Ed[i0]<1250 and abs(io.tc[i0] - io.tc[i1])<10.:\n",
    "            #\n",
    "            # select the 1330keV gamma ray in one of the other detectors\n",
    "            #\n",
    "            esel[i1].append(Ed[i1])\n",
    "\n",
    "            if Ed[i1] > 1250 and Ed[i1] < 1500:\n",
    "                    nsum[i1] = nsum[i1]+1\n",
    "                    Es.append(Ed[i0]+Ed[i1])\n",
    "            #\n",
    "            # see if there is a random match of a 1337keV event from the previous event\n",
    "            #\n",
    "            for i in range(1,N_DETECTOR):\n",
    "                if Ed_old[i] > 1250 and Ed_old[i] < 1500 and io.valid_old.sum() == 2:\n",
    "                    nsum_ran[i] = nsum_ran[i]+1\n",
    "\n",
    "    \n",
    "    \n",
    "    #\n",
    "    # overwrite Ed_old\n",
    "    #\n",
    "    Ed_old = Ed\n",
    "    nvalid_old = io.valid.sum()"
   ]
  },
  {
   "cell_type": "markdown",
   "metadata": {},
   "source": [
    "Filename to process"
   ]
  },
  {
   "cell_type": "markdown",
   "metadata": {},
   "source": [
    "Open a datafile and read the data"
   ]
  },
  {
   "cell_type": "code",
   "execution_count": 4,
   "metadata": {
    "scrolled": true
   },
   "outputs": [
    {
     "name": "stdout",
     "output_type": "stream",
     "text": [
      "DT5550:: Data recorded with config:  C:/data/20220104_112605\\config_20220104_112605.json\n",
      "DT5550:: Open data file: C:/data/20220104_112605\\data_20220104_112605_0.raw\n",
      "Processed  100000  events\n",
      "DT5550:: Open data file: C:/data/20220104_112605\\data_20220104_112605_1.raw\n",
      "Processed  200000  events\n",
      "DT5550:: Open data file: C:/data/20220104_112605\\data_20220104_112605_2.raw\n",
      "Processing done\n"
     ]
    }
   ],
   "source": [
    "#\n",
    "# open the datfile\n",
    "#\n",
    "#io = DT5550(indir='C:/data/20211221_150523/')\n",
    "    \n",
    "io = DT5550(indir='C:/data/20220104_112605/')\n",
    "t0 = []\n",
    "t1 = []\n",
    "t0c = []\n",
    "t1c = []\n",
    "E0 = []\n",
    "E1 = []\n",
    "Es = []\n",
    "Es_loose = []\n",
    "\n",
    "nmax = 5\n",
    "ifile = 0\n",
    "\n",
    "nsum = np.zeros([N_DETECTOR])\n",
    "nsum_ran = np.zeros([N_DETECTOR])\n",
    "\n",
    "delta_t = [[] for i in range(N_DETECTOR)]\n",
    "esel = [[] for i in range(N_DETECTOR)]\n",
    "ecal = [[] for i in range(N_DETECTOR)]\n",
    "\n",
    "\n",
    "\n",
    "for file in io.filenames:\n",
    "    io.open_data(file)\n",
    "    while io.read_event() == 0:\n",
    "        #\n",
    "        #\n",
    "        #\n",
    "        \n",
    "        if io.n_event%100000 == 0:\n",
    "            print('Processed ',io.n_event,' events')\n",
    "        # four gamma analysis    \n",
    "        #####four_gamma()    \n",
    "        # timing performance\n",
    "        two_gamma()\n",
    "        # correlation in Co60\n",
    "        #correlation()\n",
    "    ifile = ifile +1\n",
    "    if ifile>nmax:\n",
    "        break\n",
    "    \n",
    "t0 = np.array(t0)\n",
    "t1 = np.array(t1)\n",
    "t0c = np.array(t0c)\n",
    "t1c = np.array(t1c)\n",
    "E0 = np.array(E0)\n",
    "E1 = np.array(E1)\n",
    "\n",
    "Es = np.array(Es)\n",
    "Es_loose = np.array(Es_loose)\n",
    "delta_t = np.array(delta_t, dtype=object)\n",
    "esel = np.array(esel, dtype=object)\n",
    "ecal = np.array(ecal, dtype=object)\n",
    "\n",
    "\n",
    "print('Processing done')"
   ]
  },
  {
   "cell_type": "markdown",
   "metadata": {},
   "source": [
    "A few basic plots: integrated charge and time"
   ]
  },
  {
   "cell_type": "code",
   "execution_count": 5,
   "metadata": {
    "scrolled": false
   },
   "outputs": [
    {
     "data": {
      "image/png": "[encoded data removed]",
      "text/plain": [
       "<Figure size 720x1080 with 8 Axes>"
      ]
     },
     "metadata": {
      "needs_background": "light"
     },
     "output_type": "display_data"
    }
   ],
   "source": [
    "io.plot_all(type=\"charge\",bins=100,logy=False, range=(0,2600))"
   ]
  },
  {
   "cell_type": "code",
   "execution_count": 6,
   "metadata": {
    "scrolled": true
   },
   "outputs": [],
   "source": [
    "# io.plot_all(type=\"time\",range=(200,600),bins=100,logy=True)"
   ]
  },
  {
   "cell_type": "code",
   "execution_count": 16,
   "metadata": {},
   "outputs": [],
   "source": [
    "# Function to be fitted\n",
    "def gauss(x, x0, y0, sigma):\n",
    "    p = [x0, y0, sigma]\n",
    "    return p[1]* np.exp(-((x-p[0])/p[2])**2)"
   ]
  },
  {
   "cell_type": "code",
   "execution_count": 18,
   "metadata": {
    "scrolled": false
   },
   "outputs": [
    {
     "name": "stdout",
     "output_type": "stream",
     "text": [
      "24.95375598125696\n"
     ]
    },
    {
     "data": {
      "image/png": "[encoded data removed]",
      "text/plain": [
       "<Figure size 576x432 with 1 Axes>"
      ]
     },
     "metadata": {
      "needs_background": "light"
     },
     "output_type": "display_data"
    }
   ],
   "source": [
    "from scipy.optimize import curve_fit\n",
    "\n",
    "plt.figure(figsize=(8,6))\n",
    "dtmax = 25\n",
    "dt_nocorr = (t0-t1)\n",
    "dt_nocorr = dt_nocorr[abs(dt_nocorr)<dtmax]\n",
    "\n",
    "dt = (t0c-t1c)\n",
    "dt = dt[abs(dt)<dtmax]\n",
    "\n",
    "bins = 200\n",
    "y, xe  = np.histogram(dt,bins=bins)\n",
    "x = .5 * (xe[:-1] + xe[1:])\n",
    "print(xe[-1])\n",
    "\n",
    "\n",
    "\n",
    "# Initialization parameters\n",
    "p0 = [1., 1., 1.]\n",
    "# Fit the data with the function\n",
    "fit, tmp = curve_fit(gauss, x, y, p0=p0)\n",
    "\n",
    "# Plot the results\n",
    "plt.title('x0=%.2e y0=%.2e sigma=%.2e' % (fit[0], fit[1], fit[2]))\n",
    "# Data\n",
    "plt.hist(dt_nocorr,bins=bins, histtype='step',linewidth=2,color='grey')\n",
    "plt.hist(dt,bins=bins,histtype='step',linewidth=2,color='blue')\n",
    "\n",
    "#plt.plot(x, y, drawstyle='steps', color='blue',linewidth=2)\n",
    "# Fitted function\n",
    "x_fine = np.linspace(xe[0], xe[-1], 100)\n",
    "plt.plot(x_fine, gauss(x_fine, fit[0], fit[1], fit[2]), 'r-')\n",
    "\n",
    "plt.xlabel('$\\Delta t$ (ns)',fontsize=16)\n",
    "plt.yscale('linear')\n",
    "#plt.ylim(10,15000)\n",
    "\n",
    "plt.savefig('Gaussian_fit.png')\n"
   ]
  },
  {
   "cell_type": "code",
   "execution_count": 19,
   "metadata": {},
   "outputs": [
    {
     "data": {
      "text/plain": [
       "[<matplotlib.lines.Line2D at 0x1e5f74bf2e0>]"
      ]
     },
     "execution_count": 19,
     "metadata": {},
     "output_type": "execute_result"
    },
    {
     "data": {
      "image/png": "[encoded data removed]",
      "text/plain": [
       "<Figure size 432x288 with 1 Axes>"
      ]
     },
     "metadata": {
      "needs_background": "light"
     },
     "output_type": "display_data"
    }
   ],
   "source": [
    "x = np.arange(1,8)\n",
    "y = nsum[1:8]*rcorr[1:8]\n",
    "yr = nsum_ran[1:8]*rcorr[1:8]\n",
    "err = np.sqrt(y)\n",
    "#print(x,y,err)\n",
    "plt.errorbar(x, y, yerr=err, marker='o', ls='')\n",
    "plt.plot(x,yr,'x--')"
   ]
  },
  {
   "cell_type": "code",
   "execution_count": 10,
   "metadata": {},
   "outputs": [
    {
     "data": {
      "image/png": "[encoded data removed]",
      "text/plain": [
       "<Figure size 432x288 with 1 Axes>"
      ]
     },
     "metadata": {
      "needs_background": "light"
     },
     "output_type": "display_data"
    }
   ],
   "source": [
    "h = plt.hist(Es_loose,range=(1200,3000),bins=100)\n",
    "h = plt.hist(Es,range=(1200,3000),bins=100)\n",
    "\n",
    "plt.yscale('linear')"
   ]
  },
  {
   "cell_type": "code",
   "execution_count": 11,
   "metadata": {},
   "outputs": [
    {
     "data": {
      "image/png": "[encoded data removed]",
      "text/plain": [
       "<Figure size 432x288 with 1 Axes>"
      ]
     },
     "metadata": {
      "needs_background": "light"
     },
     "output_type": "display_data"
    }
   ],
   "source": [
    "for i in range(1,N_DETECTOR):\n",
    "    txt = 'id='+str(i)\n",
    "    h = plt.hist(esel[i], bins=50, range=(1000,1500), histtype = 'step', label = txt)\n",
    "    \n",
    "plt.legend()\n",
    "    \n",
    "plt.yscale('linear')\n"
   ]
  },
  {
   "cell_type": "code",
   "execution_count": 21,
   "metadata": {},
   "outputs": [
    {
     "name": "stdout",
     "output_type": "stream",
     "text": [
      "1 0.07641192570103245\n",
      "2 0.022351084124900965\n",
      "3 0.011029380354647317\n",
      "4 -0.11383442270943706\n",
      "5 -0.03457862640419125\n",
      "6 -0.022602026361755952\n",
      "7 -0.07580537091842834\n"
     ]
    },
    {
     "data": {
      "text/plain": [
       "<matplotlib.legend.Legend at 0x1e5f689f8e0>"
      ]
     },
     "execution_count": 21,
     "metadata": {},
     "output_type": "execute_result"
    },
    {
     "data": {
      "image/png": "[encoded data removed]",
      "text/plain": [
       "<Figure size 432x288 with 1 Axes>"
      ]
     },
     "metadata": {
      "needs_background": "light"
     },
     "output_type": "display_data"
    }
   ],
   "source": [
    "dtmax = 10\n",
    "for i in range(1,8):\n",
    "    txt = 'id='+str(i)\n",
    "    h = plt.hist(delta_t[i],bins=25,range=(-dtmax,dtmax), histtype='step', label = txt)\n",
    "    dt = np.array(delta_t[i])\n",
    "    dt = dt[abs(dt)<dtmax]\n",
    "    print(i,dt.mean())\n",
    "plt.legend()"
   ]
  },
  {
   "cell_type": "code",
   "execution_count": 13,
   "metadata": {},
   "outputs": [
    {
     "name": "stderr",
     "output_type": "stream",
     "text": [
      "C:\\Users\\admlab\\AppData\\Local\\Temp/ipykernel_7192/2650489937.py:1: RuntimeWarning: invalid value encountered in true_divide\n",
      "  plt.plot(x,y/yr,'x--')\n"
     ]
    },
    {
     "data": {
      "text/plain": [
       "[<matplotlib.lines.Line2D at 0x1e5f7044460>]"
      ]
     },
     "execution_count": 13,
     "metadata": {},
     "output_type": "execute_result"
    },
    {
     "data": {
      "image/png": "[encoded data removed]",
      "text/plain": [
       "<Figure size 432x288 with 1 Axes>"
      ]
     },
     "metadata": {
      "needs_background": "light"
     },
     "output_type": "display_data"
    }
   ],
   "source": [
    "plt.plot(x,y/yr,'x--')"
   ]
  },
  {
   "cell_type": "code",
   "execution_count": 14,
   "metadata": {},
   "outputs": [
    {
     "data": {
      "image/png": "[encoded data removed]",
      "text/plain": [
       "<Figure size 432x288 with 1 Axes>"
      ]
     },
     "metadata": {
      "needs_background": "light"
     },
     "output_type": "display_data"
    }
   ],
   "source": [
    "for i in range(1,8):\n",
    "    h = plt.hist(ecal[i],bins=100,histtype='step',range=(1000,1300))"
   ]
  },
  {
   "cell_type": "code",
   "execution_count": 15,
   "metadata": {},
   "outputs": [
    {
     "name": "stdout",
     "output_type": "stream",
     "text": [
      "[nan nan nan nan nan nan nan nan]\n"
     ]
    },
    {
     "name": "stderr",
     "output_type": "stream",
     "text": [
      "C:\\Users\\admlab\\AppData\\Local\\Temp/ipykernel_7192/389365334.py:8: RuntimeWarning: invalid value encountered in true_divide\n",
      "  print(rcorr/rcorr[1])\n"
     ]
    },
    {
     "data": {
      "image/png": "[encoded data removed]",
      "text/plain": [
       "<Figure size 432x288 with 1 Axes>"
      ]
     },
     "metadata": {
      "needs_background": "light"
     },
     "output_type": "display_data"
    }
   ],
   "source": [
    "rcorr = np.zeros(N_DETECTOR)\n",
    "for i in range(1,8):\n",
    "    ee = np.array(ecal[i])\n",
    "    ee = ee[abs(ee-1173)<50]\n",
    "    rcorr[i] = len(ee)\n",
    "    h = plt.hist(ee,bins=20,histtype='step',range=(1120,1240))\n",
    "\n",
    "print(rcorr/rcorr[1])"
   ]
  },
  {
   "cell_type": "code",
   "execution_count": null,
   "metadata": {},
   "outputs": [],
   "source": []
  }
 ],
 "metadata": {
  "kernelspec": {
   "display_name": "Python 3 (ipykernel)",
   "language": "python",
   "name": "python3"
  },
  "language_info": {
   "codemirror_mode": {
    "name": "ipython",
    "version": 3
   },
   "file_extension": ".py",
   "mimetype": "text/x-python",
   "name": "python",
   "nbconvert_exporter": "python",
   "pygments_lexer": "ipython3",
   "version": "3.7.11"
  }
 },
 "nbformat": 4,
 "nbformat_minor": 4
}
