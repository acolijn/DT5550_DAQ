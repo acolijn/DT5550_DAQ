{
 "cells": [
  {
   "cell_type": "markdown",
   "metadata": {},
   "source": [
    "### Analysis software development \n",
    "\n",
    "Goal: establish smooth reading of the binary DAQ datafiles"
   ]
  },
  {
   "cell_type": "code",
   "execution_count": 1,
   "metadata": {
    "scrolled": false
   },
   "outputs": [],
   "source": [
    "import sys\n",
    "sys.path.insert(0,'python/')\n",
    "import struct\n",
    "import matplotlib.pyplot as plt\n",
    "from scipy.stats import norm\n",
    "\n",
    "import numpy as np\n",
    "# import data handling class\n",
    "from DT5550 import *"
   ]
  },
  {
   "cell_type": "code",
   "execution_count": 2,
   "metadata": {},
   "outputs": [],
   "source": [
    "tcorr = np.array([0,10,22,12,32,12,13,9])"
   ]
  },
  {
   "cell_type": "code",
   "execution_count": 84,
   "metadata": {},
   "outputs": [],
   "source": [
    "def four_gamma():\n",
    "    if io.valid.sum() == 4:\n",
    "        esum = 0\n",
    "        nsum = 0\n",
    "        tav  = 0\n",
    "        tlist = []\n",
    "        for idet in range(N_DETECTOR):\n",
    "            E = io.Q[idet]\n",
    "            if io.valid[idet]:\n",
    "                if (E>1100) and (E<1350):\n",
    "                    isel = idet\n",
    "                    tsel = io.t[idet]\n",
    "                else:\n",
    "                    esum = esum + io.Q[idet]\n",
    "                    tlist.append(io.t[idet])\n",
    "                    nsum = nsum + 1\n",
    "        \n",
    "        if nsum==3:\n",
    "            tlist = np.array(tlist)\n",
    "            tav = tlist.mean()\n",
    "            tstd = np.sqrt(tlist.var())\n",
    "            E1.append(tstd)\n",
    "            #print(tstd)\n",
    "            if tstd<100 and tsel<tav and esum>800 and esum<1200:\n",
    "                E0.append(esum)\n",
    "                t0.append(tsel)\n",
    "                t1.append(tav)\n",
    "\n",
    "                \n",
    "                \n",
    "def two_gamma():\n",
    "    #\n",
    "    # \n",
    "    #\n",
    "    \n",
    "    #\n",
    "    # demand two valid hits\n",
    "    #\n",
    "    if io.valid.sum() == 2:\n",
    "        idet_sel = []\n",
    "        #\n",
    "        # get the indices of the two hits \n",
    "        #\n",
    "        for idet in range(N_DETECTOR):\n",
    "            if io.valid[idet]:\n",
    "                idet_sel.append(idet)\n",
    "        \n",
    "        #\n",
    "        # select events in which idet=0 detected an 1173keV gamma\n",
    "        #\n",
    "\n",
    "        \n",
    "        idet_sel = np.array(idet_sel)\n",
    "        \n",
    "        if idet_sel[0] == 0 and len(idet_sel) == 2:\n",
    "            id0 = idet_sel[0]\n",
    "            id1 = idet_sel[1]\n",
    "            delta_t[id1].append(io.tc[id1]-io.tc[id0])\n",
    "        \n",
    "        if len(idet_sel) >= 2:\n",
    "            E0.append(io.Q[idet_sel[0]])\n",
    "            E1.append(io.Q[idet_sel[1]])\n",
    "            t0.append(io.t[idet_sel[0]]+tcorr[idet_sel[0]])\n",
    "            t1.append(io.t[idet_sel[1]]+tcorr[idet_sel[1]])\n",
    "            t0c.append(io.tc[idet_sel[0]]+tcorr[idet_sel[0]])\n",
    "            t1c.append(io.tc[idet_sel[1]]+tcorr[idet_sel[1]])\n",
    "        \n",
    "def correlation():\n",
    "    #\n",
    "    # Co60 angular correlation study\n",
    "    #\n",
    "    \n",
    "    #\n",
    "    # demand two valid hits\n",
    "    #\n",
    "    if io.valid.sum() == 2:\n",
    "        idet_sel = []\n",
    "        #\n",
    "        # get the indices of the two hits \n",
    "        #\n",
    "        for idet in range(N_DETECTOR):\n",
    "            if io.valid[idet]:\n",
    "                idet_sel.append(idet)\n",
    "        \n",
    "        i0 = idet_sel[0]\n",
    "        i1 = idet_sel[1]\n",
    "        Es_loose.append(io.Q[i0]+io.Q[i1])\n",
    "        #\n",
    "        # select events with a 1173keV gamma ray in detector=0\n",
    "        #\n",
    "        if i0 == 0 and io.Q[i0]>1100 and io.Q[i0]<1250 and abs(io.tc[i0] - io.tc[i1])<100:\n",
    "            #\n",
    "            # select teh 1330keV gamma ray in one of teh other detectors\n",
    "            #\n",
    "            if io.Q[i1] > 1250 and io.Q[i1] < 1500:\n",
    "                    nsum[i1] = nsum[i1]+1\n",
    "                    Es.append(io.Q[i0]+io.Q[i1])\n",
    "                    esel[i0].append(io.Q[i0])\n",
    "                    esel[i1].append(io.Q[i1])\n",
    "                            "
   ]
  },
  {
   "cell_type": "markdown",
   "metadata": {},
   "source": [
    "Filename to process"
   ]
  },
  {
   "cell_type": "markdown",
   "metadata": {},
   "source": [
    "Open a datafile and read the data"
   ]
  },
  {
   "cell_type": "code",
   "execution_count": 85,
   "metadata": {
    "scrolled": true
   },
   "outputs": [
    {
     "name": "stdout",
     "output_type": "stream",
     "text": [
      "DT5550:: Data recorded with config:  C:/data/20211220_154959\\config_20211220_154959.json\n",
      "DT5550:: Open data file: C:/data/20211220_154959\\data_20211220_154959_0.raw\n",
      "Processing done\n"
     ]
    }
   ],
   "source": [
    "#\n",
    "# open the datfile\n",
    "#\n",
    "io = DT5550(indir='C:/data/20211220_154959/')\n",
    "    \n",
    "#io = DT5550(file='../../DT5550_DAQ/daq/ReadoutClient/test0.raw')\n",
    "t0 = []\n",
    "t1 = []\n",
    "t0c = []\n",
    "t1c = []\n",
    "E0 = []\n",
    "E1 = []\n",
    "Es = []\n",
    "Es_loose = []\n",
    "nmax = 5\n",
    "ifile = 0\n",
    "\n",
    "nsum = np.zeros([N_DETECTOR])\n",
    "nsum_ran = np.zeros([N_DETECTOR])\n",
    "\n",
    "delta_t = [[] for i in range(N_DETECTOR)]\n",
    "esel = [[] for i in range(N_DETECTOR)]\n",
    "\n",
    "\n",
    "for file in io.filenames:\n",
    "    io.open_data(file)\n",
    "    while io.read_event() == 0:\n",
    "        #\n",
    "        #\n",
    "        #\n",
    "        \n",
    "        if io.n_event%100000 == 0:\n",
    "            print('Processed ',io.n_event,' events')\n",
    "        # four gamma analysis    \n",
    "        #####four_gamma()    \n",
    "        # timing performance\n",
    "        two_gamma()\n",
    "        # correlation in Co60\n",
    "        correlation()\n",
    "    ifile = ifile +1\n",
    "    if ifile>nmax:\n",
    "        break\n",
    "    \n",
    "t0 = np.array(t0)\n",
    "t1 = np.array(t1)\n",
    "t0c = np.array(t0c)\n",
    "t1c = np.array(t1c)\n",
    "E0 = np.array(E0)\n",
    "E1 = np.array(E1)\n",
    "\n",
    "Es = np.array(Es)\n",
    "Es_loose = np.array(Es_loose)\n",
    "delta_t = np.array(delta_t, dtype=object)\n",
    "esel = np.array(esel, dtype=object)\n",
    "\n",
    "\n",
    "print('Processing done')"
   ]
  },
  {
   "cell_type": "markdown",
   "metadata": {},
   "source": [
    "A few basic plots: integrated charge and time"
   ]
  },
  {
   "cell_type": "code",
   "execution_count": 78,
   "metadata": {
    "scrolled": true
   },
   "outputs": [
    {
     "data": {
      "image/png": "[encoded data removed]",
      "text/plain": [
       "<Figure size 720x1080 with 8 Axes>"
      ]
     },
     "metadata": {
      "needs_background": "light"
     },
     "output_type": "display_data"
    }
   ],
   "source": [
    "io.plot_all(type=\"charge\",bins=100,logy=False, range=(1000,1500))"
   ]
  },
  {
   "cell_type": "code",
   "execution_count": 79,
   "metadata": {
    "scrolled": true
   },
   "outputs": [],
   "source": [
    "# io.plot_all(type=\"time\",range=(200,600),bins=100,logy=True)"
   ]
  },
  {
   "cell_type": "code",
   "execution_count": 80,
   "metadata": {
    "scrolled": false
   },
   "outputs": [
    {
     "name": "stdout",
     "output_type": "stream",
     "text": [
      "199.17957194308366\n"
     ]
    },
    {
     "data": {
      "image/png": "[encoded data removed]",
      "text/plain": [
       "<Figure size 576x432 with 1 Axes>"
      ]
     },
     "metadata": {
      "needs_background": "light"
     },
     "output_type": "display_data"
    }
   ],
   "source": [
    "from scipy.optimize import curve_fit\n",
    "\n",
    "plt.figure(figsize=(8,6))\n",
    "\n",
    "dt_nocorr = (t0-t1)\n",
    "dt_nocorr = dt_nocorr[abs(dt_nocorr)<200]\n",
    "\n",
    "dt = (t0c-t1c)\n",
    "dt = dt[abs(dt)<200]\n",
    "\n",
    "bins = 100\n",
    "y, xe  = np.histogram(dt,bins=bins)\n",
    "x = .5 * (xe[:-1] + xe[1:])\n",
    "print(xe[-1])\n",
    "\n",
    "# Function to be fitted\n",
    "def gauss(x, x0, y0, sigma):\n",
    "    p = [x0, y0, sigma]\n",
    "    return p[1]* np.exp(-((x-p[0])/p[2])**2)\n",
    "\n",
    "# Initialization parameters\n",
    "p0 = [1., 1., 1.]\n",
    "# Fit the data with the function\n",
    "fit, tmp = curve_fit(gauss, x, y, p0=p0)\n",
    "\n",
    "# Plot the results\n",
    "plt.title('x0=%.2e y0=%.2e sigma=%.2e' % (fit[0], fit[1], fit[2]))\n",
    "# Data\n",
    "plt.hist(dt_nocorr,bins=bins, histtype='step',linewidth=2,color='grey')\n",
    "plt.hist(dt,bins=bins,histtype='step',linewidth=2,color='blue')\n",
    "\n",
    "#plt.plot(x, y, drawstyle='steps', color='blue',linewidth=2)\n",
    "# Fitted function\n",
    "x_fine = np.linspace(xe[0], xe[-1], 100)\n",
    "plt.plot(x_fine, gauss(x_fine, fit[0], fit[1], fit[2]), 'r-')\n",
    "\n",
    "plt.xlabel('$\\Delta t$ (ns)',fontsize=16)\n",
    "plt.yscale('log')\n",
    "plt.ylim(10,20000)\n",
    "\n",
    "plt.savefig('Gaussian_fit.png')\n"
   ]
  },
  {
   "cell_type": "code",
   "execution_count": 81,
   "metadata": {},
   "outputs": [
    {
     "data": {
      "text/plain": [
       "[<matplotlib.lines.Line2D at 0x1647e4c63d0>]"
      ]
     },
     "execution_count": 81,
     "metadata": {},
     "output_type": "execute_result"
    },
    {
     "data": {
      "image/png": "[encoded data removed]",
      "text/plain": [
       "<Figure size 432x288 with 1 Axes>"
      ]
     },
     "metadata": {
      "needs_background": "light"
     },
     "output_type": "display_data"
    }
   ],
   "source": [
    "plt.plot(nsum,'o-')\n",
    "plt.plot(nsum_ran,'x--')"
   ]
  },
  {
   "cell_type": "code",
   "execution_count": 83,
   "metadata": {},
   "outputs": [
    {
     "data": {
      "image/png": "[encoded data removed]",
      "text/plain": [
       "<Figure size 432x288 with 1 Axes>"
      ]
     },
     "metadata": {
      "needs_background": "light"
     },
     "output_type": "display_data"
    }
   ],
   "source": [
    "h = plt.hist(Es_loose,range=(1200,3000),bins=100)\n",
    "h = plt.hist(Es,range=(1200,3000),bins=100)\n",
    "\n",
    "plt.yscale('log')"
   ]
  },
  {
   "cell_type": "code",
   "execution_count": 89,
   "metadata": {},
   "outputs": [
    {
     "data": {
      "image/png": "[encoded data removed]",
      "text/plain": [
       "<Figure size 432x288 with 1 Axes>"
      ]
     },
     "metadata": {
      "needs_background": "light"
     },
     "output_type": "display_data"
    }
   ],
   "source": [
    "for i in range(8):\n",
    "    h = plt.hist(esel[i],bins=50,range=(1000,1500))\n"
   ]
  },
  {
   "cell_type": "code",
   "execution_count": null,
   "metadata": {},
   "outputs": [],
   "source": []
  }
 ],
 "metadata": {
  "kernelspec": {
   "display_name": "Python 3 (ipykernel)",
   "language": "python",
   "name": "python3"
  },
  "language_info": {
   "codemirror_mode": {
    "name": "ipython",
    "version": 3
   },
   "file_extension": ".py",
   "mimetype": "text/x-python",
   "name": "python",
   "nbconvert_exporter": "python",
   "pygments_lexer": "ipython3",
   "version": "3.9.7"
  }
 },
 "nbformat": 4,
 "nbformat_minor": 4
}
