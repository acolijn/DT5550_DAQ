{
 "cells": [
  {
   "cell_type": "markdown",
   "metadata": {},
   "source": [
    "### Analysis software development v2 \n",
    "\n",
    "Goal: establish smooth reading of the binary DAQ datafiles"
   ]
  },
  {
   "cell_type": "code",
   "execution_count": 1,
   "metadata": {
    "scrolled": false
   },
   "outputs": [],
   "source": [
    "import sys\n",
    "sys.path.insert(0,'python/')\n",
    "import struct\n",
    "import matplotlib.pyplot as plt\n",
    "from scipy.stats import norm\n",
    "\n",
    "\n",
    "# import data handling class\n",
    "from DT5550 import *\n"
   ]
  },
  {
   "cell_type": "markdown",
   "metadata": {},
   "source": [
    "Open a datafile and read the data"
   ]
  },
  {
   "cell_type": "code",
   "execution_count": 2,
   "metadata": {
    "scrolled": true
   },
   "outputs": [
    {
     "name": "stdout",
     "output_type": "stream",
     "text": [
      "DT5550:: Data recorded with config:  C:/data/20220117_104522\\config_20220117_104522.json\n",
      "DT5550:: Open data file: C:/data/20220117_104522\\data_20220117_104522_0.raw\n",
      "DT5550:: Open data file: C:/data/20220117_104522\\data_20220117_104522_1.raw\n",
      "DT5550:: Open data file: C:/data/20220117_104522\\data_20220117_104522_2.raw\n",
      "DT5550:: Open data file: C:/data/20220117_104522\\data_20220117_104522_4.raw\n",
      "DT5550:: Open data file: C:/data/20220117_104522\\data_20220117_104522_5.raw\n",
      "DT5550:: Open data file: C:/data/20220117_104522\\data_20220117_104522_6.raw\n",
      "DT5550:: Open data file: C:/data/20220117_104522\\data_20220117_104522_7.raw\n",
      "DT5550:: Open data file: C:/data/20220117_104522\\data_20220117_104522_8.raw\n",
      "DT5550:: Open data file: C:/data/20220117_104522\\data_20220117_104522_9.raw\n",
      "Processing done\n"
     ]
    }
   ],
   "source": [
    "#\n",
    "# open the datfile / data directory\n",
    "#\n",
    "    \n",
    "#\n",
    "# loop over all the events\n",
    "#\n",
    "dt_max = 10\n",
    "\n",
    "Etot = []\n",
    "nmax = 9999\n",
    "\n",
    "#    while io.read_event() == 0:\n",
    "#        #\n",
    "#        # data: io.Q[0:ndet-1] -> energy\n",
    "#        #       io.ph[0:ndet-1] -> peak height\n",
    "#        #       io.t[0:ndet-1] -> time without timewalk correction\n",
    "#        #       io.tc[0:ndet-1] -> time with timewalk correction\n",
    "#        #       io.valid[0:ndet-1] -> valid bit = 1 for valid data\n",
    "#        #       io.R[0:ndet-1] -> peak/area ratio\n",
    "\n",
    "\n",
    "# tagged\n",
    "io = DT5550(indir='C:/data/20220117_104522/')\n",
    "nf = 0\n",
    "\n",
    "for file in io.filenames:\n",
    "    io.open_data(file)\n",
    "    nf = nf + 1\n",
    "    if nf>nmax:\n",
    "        break\n",
    "    while io.read_event() == 0: \n",
    "        # data: io.Q[0:ndet-1] -> energy\n",
    "        #       io.ph[0:ndet-1] -> peak height\n",
    "        #       io.t[0:ndet-1] -> time without timewalk correction\n",
    "        #       io.tc[0:ndet-1] -> time with timewalk correction\n",
    "        #       io.valid[0:ndet-1] -> valid bit = 1 for valid data\n",
    "        #       io.R[0:ndet-1] -> peak/area ratio\n",
    "        nh = io.valid.sum()\n",
    "        \n",
    "        Etot.append(io.Qraw.sum())\n",
    "        # for idet in range(N_DETECTOR):\n",
    "            \n",
    "\n",
    "\n",
    "\n",
    "print('Processing done')\n",
    "\n",
    "Etot = np.array(Etot,dtype=object)\n",
    "\n",
    "\n",
    "#r = np.array(r, dtype=object)"
   ]
  },
  {
   "cell_type": "markdown",
   "metadata": {},
   "source": [
    "#### Define fit functions"
   ]
  },
  {
   "cell_type": "code",
   "execution_count": 3,
   "metadata": {},
   "outputs": [
    {
     "data": {
      "image/png": "[encoded data removed]",
      "text/plain": [
       "<Figure size 432x288 with 1 Axes>"
      ]
     },
     "metadata": {
      "needs_background": "light"
     },
     "output_type": "display_data"
    }
   ],
   "source": [
    "h = plt.hist(Etot,bins=100,range=(0,3000))\n",
    "plt.yscale('log')"
   ]
  },
  {
   "cell_type": "code",
   "execution_count": null,
   "metadata": {},
   "outputs": [],
   "source": []
  }
 ],
 "metadata": {
  "kernelspec": {
   "display_name": "Python 3 (ipykernel)",
   "language": "python",
   "name": "python3"
  },
  "language_info": {
   "codemirror_mode": {
    "name": "ipython",
    "version": 3
   },
   "file_extension": ".py",
   "mimetype": "text/x-python",
   "name": "python",
   "nbconvert_exporter": "python",
   "pygments_lexer": "ipython3",
   "version": "3.9.7"
  }
 },
 "nbformat": 4,
 "nbformat_minor": 4
}
