{
 "cells": [
  {
   "cell_type": "markdown",
   "metadata": {},
   "source": [
    "### Analysis software development v2 \n",
    "\n",
    "Goal: establish smooth reading of the binary DAQ datafiles"
   ]
  },
  {
   "cell_type": "code",
   "execution_count": 1,
   "metadata": {
    "scrolled": false
   },
   "outputs": [],
   "source": [
    "import sys\n",
    "sys.path.insert(0,'python/')\n",
    "import struct\n",
    "import matplotlib.pyplot as plt\n",
    "from scipy.stats import norm\n",
    "\n",
    "\n",
    "# import data handling class\n",
    "from DT5550 import *\n"
   ]
  },
  {
   "cell_type": "markdown",
   "metadata": {},
   "source": [
    "Open a datafile and read the data"
   ]
  },
  {
   "cell_type": "code",
   "execution_count": 50,
   "metadata": {
    "scrolled": true
   },
   "outputs": [
    {
     "name": "stdout",
     "output_type": "stream",
     "text": [
      "DT5550:: Data recorded with config:  C:/data/20220216_125953\\config_20220216_125953.json\n",
      "DT5550:: Open data file: C:/data/20220216_125953\\data_20220216_125953_0.raw\n",
      "DT5550:: Open data file: C:/data/20220216_125953\\data_20220216_125953_1.raw\n",
      "DT5550:: Open data file: C:/data/20220216_125953\\data_20220216_125953_2.raw\n",
      "DT5550:: Open data file: C:/data/20220216_125953\\data_20220216_125953_3.raw\n",
      "DT5550:: Open data file: C:/data/20220216_125953\\data_20220216_125953_4.raw\n",
      "DT5550:: Open data file: C:/data/20220216_125953\\data_20220216_125953_5.raw\n",
      "DT5550:: Open data file: C:/data/20220216_125953\\data_20220216_125953_6.raw\n",
      "DT5550:: Open data file: C:/data/20220216_125953\\data_20220216_125953_7.raw\n",
      "DT5550:: Open data file: C:/data/20220216_125953\\data_20220216_125953_8.raw\n",
      "DT5550:: Open data file: C:/data/20220216_125953\\data_20220216_125953_9.raw\n",
      "DT5550:: Open data file: C:/data/20220216_125953\\data_20220216_125953_10.raw\n",
      "DT5550:: Open data file: C:/data/20220216_125953\\data_20220216_125953_11.raw\n",
      "DT5550:: Open data file: C:/data/20220216_125953\\data_20220216_125953_12.raw\n",
      "DT5550:: Open data file: C:/data/20220216_125953\\data_20220216_125953_13.raw\n",
      "DT5550:: Open data file: C:/data/20220216_125953\\data_20220216_125953_14.raw\n",
      "DT5550:: Open data file: C:/data/20220216_125953\\data_20220216_125953_15.raw\n",
      "DT5550:: Open data file: C:/data/20220216_125953\\data_20220216_125953_16.raw\n",
      "DT5550:: Open data file: C:/data/20220216_125953\\data_20220216_125953_17.raw\n",
      "DT5550:: Open data file: C:/data/20220216_125953\\data_20220216_125953_18.raw\n",
      "DT5550:: Open data file: C:/data/20220216_125953\\data_20220216_125953_19.raw\n",
      "DT5550:: Open data file: C:/data/20220216_125953\\data_20220216_125953_20.raw\n",
      "DT5550:: Open data file: C:/data/20220216_125953\\data_20220216_125953_21.raw\n",
      "DT5550:: Open data file: C:/data/20220216_125953\\data_20220216_125953_22.raw\n",
      "DT5550:: Open data file: C:/data/20220216_125953\\data_20220216_125953_23.raw\n",
      "DT5550:: Open data file: C:/data/20220216_125953\\data_20220216_125953_24.raw\n",
      "DT5550:: Open data file: C:/data/20220216_125953\\data_20220216_125953_25.raw\n",
      "DT5550:: Open data file: C:/data/20220216_125953\\data_20220216_125953_26.raw\n",
      "DT5550:: Open data file: C:/data/20220216_125953\\data_20220216_125953_27.raw\n",
      "DT5550:: Open data file: C:/data/20220216_125953\\data_20220216_125953_29.raw\n",
      "DT5550:: Open data file: C:/data/20220216_125953\\data_20220216_125953_30.raw\n",
      "DT5550:: Open data file: C:/data/20220216_125953\\data_20220216_125953_31.raw\n",
      "DT5550:: Open data file: C:/data/20220216_125953\\data_20220216_125953_32.raw\n",
      "DT5550:: Open data file: C:/data/20220216_125953\\data_20220216_125953_33.raw\n",
      "DT5550:: Open data file: C:/data/20220216_125953\\data_20220216_125953_34.raw\n",
      "DT5550:: Open data file: C:/data/20220216_125953\\data_20220216_125953_35.raw\n",
      "DT5550:: Open data file: C:/data/20220216_125953\\data_20220216_125953_36.raw\n",
      "DT5550:: Open data file: C:/data/20220216_125953\\data_20220216_125953_37.raw\n",
      "DT5550:: Open data file: C:/data/20220216_125953\\data_20220216_125953_38.raw\n",
      "DT5550:: Open data file: C:/data/20220216_125953\\data_20220216_125953_39.raw\n",
      "DT5550:: Open data file: C:/data/20220216_125953\\data_20220216_125953_41.raw\n",
      "DT5550:: Open data file: C:/data/20220216_125953\\data_20220216_125953_42.raw\n",
      "DT5550:: Open data file: C:/data/20220216_125953\\data_20220216_125953_43.raw\n",
      "DT5550:: Open data file: C:/data/20220216_125953\\data_20220216_125953_44.raw\n",
      "DT5550:: Open data file: C:/data/20220216_125953\\data_20220216_125953_45.raw\n",
      "DT5550:: Open data file: C:/data/20220216_125953\\data_20220216_125953_46.raw\n",
      "DT5550:: Open data file: C:/data/20220216_125953\\data_20220216_125953_47.raw\n",
      "DT5550:: Open data file: C:/data/20220216_125953\\data_20220216_125953_48.raw\n",
      "DT5550:: Open data file: C:/data/20220216_125953\\data_20220216_125953_49.raw\n",
      "DT5550:: Open data file: C:/data/20220216_125953\\data_20220216_125953_50.raw\n",
      "DT5550:: Open data file: C:/data/20220216_125953\\data_20220216_125953_51.raw\n",
      "DT5550:: Open data file: C:/data/20220216_125953\\data_20220216_125953_52.raw\n",
      "DT5550:: Open data file: C:/data/20220216_125953\\data_20220216_125953_53.raw\n",
      "DT5550:: Open data file: C:/data/20220216_125953\\data_20220216_125953_54.raw\n",
      "DT5550:: Open data file: C:/data/20220216_125953\\data_20220216_125953_55.raw\n",
      "DT5550:: Open data file: C:/data/20220216_125953\\data_20220216_125953_56.raw\n",
      "DT5550:: Open data file: C:/data/20220216_125953\\data_20220216_125953_57.raw\n",
      "DT5550:: Open data file: C:/data/20220216_125953\\data_20220216_125953_58.raw\n",
      "DT5550:: Open data file: C:/data/20220216_125953\\data_20220216_125953_59.raw\n",
      "DT5550:: Open data file: C:/data/20220216_125953\\data_20220216_125953_60.raw\n",
      "DT5550:: Open data file: C:/data/20220216_125953\\data_20220216_125953_61.raw\n",
      "DT5550:: Open data file: C:/data/20220216_125953\\data_20220216_125953_62.raw\n",
      "DT5550:: Open data file: C:/data/20220216_125953\\data_20220216_125953_63.raw\n",
      "DT5550:: Open data file: C:/data/20220216_125953\\data_20220216_125953_64.raw\n",
      "DT5550:: Open data file: C:/data/20220216_125953\\data_20220216_125953_65.raw\n",
      "DT5550:: Open data file: C:/data/20220216_125953\\data_20220216_125953_66.raw\n",
      "DT5550:: Open data file: C:/data/20220216_125953\\data_20220216_125953_67.raw\n",
      "DT5550:: Open data file: C:/data/20220216_125953\\data_20220216_125953_68.raw\n",
      "DT5550:: Open data file: C:/data/20220216_125953\\data_20220216_125953_69.raw\n",
      "DT5550:: Open data file: C:/data/20220216_125953\\data_20220216_125953_70.raw\n",
      "DT5550:: Open data file: C:/data/20220216_125953\\data_20220216_125953_71.raw\n",
      "DT5550:: Open data file: C:/data/20220216_125953\\data_20220216_125953_72.raw\n",
      "DT5550:: Open data file: C:/data/20220216_125953\\data_20220216_125953_73.raw\n",
      "DT5550:: Open data file: C:/data/20220216_125953\\data_20220216_125953_74.raw\n",
      "DT5550:: Open data file: C:/data/20220216_125953\\data_20220216_125953_75.raw\n",
      "DT5550:: Open data file: C:/data/20220216_125953\\data_20220216_125953_76.raw\n",
      "DT5550:: Open data file: C:/data/20220216_125953\\data_20220216_125953_77.raw\n",
      "DT5550:: Open data file: C:/data/20220216_125953\\data_20220216_125953_78.raw\n",
      "DT5550:: Open data file: C:/data/20220216_125953\\data_20220216_125953_79.raw\n",
      "DT5550:: Open data file: C:/data/20220216_125953\\data_20220216_125953_80.raw\n",
      "DT5550:: Open data file: C:/data/20220216_125953\\data_20220216_125953_81.raw\n",
      "DT5550:: Open data file: C:/data/20220216_125953\\data_20220216_125953_82.raw\n",
      "DT5550:: Open data file: C:/data/20220216_125953\\data_20220216_125953_83.raw\n",
      "DT5550:: Open data file: C:/data/20220216_125953\\data_20220216_125953_86.raw\n",
      "DT5550:: Open data file: C:/data/20220216_125953\\data_20220216_125953_87.raw\n",
      "DT5550:: Open data file: C:/data/20220216_125953\\data_20220216_125953_88.raw\n",
      "DT5550:: Open data file: C:/data/20220216_125953\\data_20220216_125953_89.raw\n",
      "DT5550:: Open data file: C:/data/20220216_125953\\data_20220216_125953_90.raw\n",
      "DT5550:: Open data file: C:/data/20220216_125953\\data_20220216_125953_91.raw\n",
      "DT5550:: Open data file: C:/data/20220216_125953\\data_20220216_125953_92.raw\n",
      "DT5550:: Open data file: C:/data/20220216_125953\\data_20220216_125953_93.raw\n",
      "DT5550:: Open data file: C:/data/20220216_125953\\data_20220216_125953_94.raw\n",
      "DT5550:: Open data file: C:/data/20220216_125953\\data_20220216_125953_95.raw\n",
      "DT5550:: Open data file: C:/data/20220216_125953\\data_20220216_125953_96.raw\n",
      "DT5550:: Open data file: C:/data/20220216_125953\\data_20220216_125953_97.raw\n",
      "DT5550:: Open data file: C:/data/20220216_125953\\data_20220216_125953_98.raw\n",
      "DT5550:: Open data file: C:/data/20220216_125953\\data_20220216_125953_99.raw\n",
      "DT5550:: Open data file: C:/data/20220216_125953\\data_20220216_125953_100.raw\n",
      "DT5550:: Open data file: C:/data/20220216_125953\\data_20220216_125953_101.raw\n",
      "Processing done\n"
     ]
    }
   ],
   "source": [
    "#\n",
    "# open the datfile / data directory\n",
    "#\n",
    "    \n",
    "#\n",
    "# loop over all the events\n",
    "#\n",
    "dt_max = 10\n",
    "\n",
    "Etot = []\n",
    "ee = []\n",
    "tt = []\n",
    "pp = []\n",
    "for i in range(8):\n",
    "    pp.append([])\n",
    "tdif = []\n",
    "\n",
    "nmax = 9999\n",
    "\n",
    "\n",
    "io = DT5550(indir='C:/data/20220216_125953/')\n",
    "\n",
    "nf = 0\n",
    "\n",
    "dtime = []\n",
    "for file in io.filenames:\n",
    "    io.open_data(file)\n",
    "    nf = nf + 1\n",
    "    if nf>nmax:\n",
    "        break\n",
    "    while io.read_event() == 0: \n",
    "        # data: io.Q[0:ndet-1] -> energy\n",
    "        #       io.ph[0:ndet-1] -> peak height\n",
    "        #       io.t[0:ndet-1] -> time without timewalk correction\n",
    "        #       io.tc[0:ndet-1] -> time with timewalk correction\n",
    "        #       io.valid[0:ndet-1] -> valid bit = 1 for valid data\n",
    "        #       io.R[0:ndet-1] -> peak/area ratio\n",
    "        nh = io.valid.sum()\n",
    "        \n",
    "        Etot.append(io.Q.sum())\n",
    "        \n",
    "        #\n",
    "        # select events where the total energy of a Na22 decay is observed\n",
    "        #\n",
    "        if (nh>2) and (io.Q.sum()>2150) and (io.Q.sum()<2400):\n",
    "            for idet in range(N_DETECTOR):\n",
    "                # 1274 gamma ray from Ne22\n",
    "                if abs(io.Q[idet]-1274)<75:\n",
    "                    #print('1274keV ', idet,'t =',io.tc[idet],'E =',io.Q[idet])\n",
    "                    t0 = io.tc[idet]\n",
    "         \n",
    "            nn = 0\n",
    "            esum = 0\n",
    "            tsum = []\n",
    "            for idet in range(N_DETECTOR):\n",
    "                # energy below 2*m_e\n",
    "                if (io.valid[idet]) and (abs(io.Q[idet])<1022):\n",
    "                    nn = nn + 1\n",
    "                    esum = esum + io.Q[idet]\n",
    "                    tsum.append(io.tc[idet]-t0)\n",
    "                    \n",
    "                    #print('gg     ', idet,'t =',io.tc[idet]-t0,'E =',io.Q[idet])\n",
    "            tsum = np.array(tsum)\n",
    "            if nn==3:\n",
    "                #print('nn',nn,'esum =',esum, 'tav =',tsum/nn)\n",
    "                if abs(esum-1022)<100:\n",
    "                    ss = np.sqrt(tsum.var())\n",
    "                    if ss<10:\n",
    "                        tt.append(tsum.mean())\n",
    "                    \n",
    "print('Processing done')\n",
    "\n",
    "Etot = np.array(Etot,dtype=object)\n",
    "ee = np.array(ee,dtype=object)\n",
    "\n",
    "\n",
    "#r = np.array(r, dtype=object)"
   ]
  },
  {
   "cell_type": "markdown",
   "metadata": {},
   "source": [
    "#### Define fit functions"
   ]
  },
  {
   "cell_type": "code",
   "execution_count": 41,
   "metadata": {},
   "outputs": [
    {
     "name": "stdout",
     "output_type": "stream",
     "text": [
      "200000\n"
     ]
    },
    {
     "data": {
      "image/png": "[encoded data removed]",
      "text/plain": [
       "<Figure size 432x288 with 1 Axes>"
      ]
     },
     "metadata": {
      "needs_background": "light"
     },
     "output_type": "display_data"
    }
   ],
   "source": [
    "h = plt.hist(Etot,bins=100,range=(2000,2500))\n",
    "plt.yscale('log')\n",
    "\n",
    "\n",
    "print(len(Etot))"
   ]
  },
  {
   "cell_type": "code",
   "execution_count": 42,
   "metadata": {},
   "outputs": [
    {
     "name": "stderr",
     "output_type": "stream",
     "text": [
      "C:\\Users\\admlab\\AppData\\Local\\Temp/ipykernel_9484/1933385541.py:2: UserWarning: Data has no positive values, and therefore cannot be log-scaled.\n",
      "  plt.yscale('log')\n"
     ]
    },
    {
     "data": {
      "image/png": "[encoded data removed]",
      "text/plain": [
       "<Figure size 432x288 with 1 Axes>"
      ]
     },
     "metadata": {
      "needs_background": "light"
     },
     "output_type": "display_data"
    }
   ],
   "source": [
    "h = plt.hist(ee,bins=100,range=(100,1500))\n",
    "plt.yscale('log')"
   ]
  },
  {
   "cell_type": "code",
   "execution_count": 64,
   "metadata": {},
   "outputs": [
    {
     "data": {
      "text/plain": [
       "[<matplotlib.lines.Line2D at 0x16e11fefe20>]"
      ]
     },
     "execution_count": 64,
     "metadata": {},
     "output_type": "execute_result"
    },
    {
     "data": {
      "image/png": "[encoded data removed]",
      "text/plain": [
       "<Figure size 432x288 with 1 Axes>"
      ]
     },
     "metadata": {
      "needs_background": "light"
     },
     "output_type": "display_data"
    }
   ],
   "source": [
    "tt=np.array(tt)\n",
    "h = plt.hist(tt,bins=200,range=(-50,50))\n",
    "plt.yscale('log')\n",
    "plt.plot([-50, 50],[100,100],'b')\n",
    "plt.plot([-20,-20],[1,1e5],'b')\n",
    "plt.plot([ 20, 20],[1,1e5],'b')\n",
    "\n",
    "plt.plot([-0,-0],[1,1e5],'b')"
   ]
  },
  {
   "cell_type": "code",
   "execution_count": null,
   "metadata": {},
   "outputs": [],
   "source": []
  },
  {
   "cell_type": "code",
   "execution_count": null,
   "metadata": {},
   "outputs": [],
   "source": []
  }
 ],
 "metadata": {
  "kernelspec": {
   "display_name": "Python 3 (ipykernel)",
   "language": "python",
   "name": "python3"
  },
  "language_info": {
   "codemirror_mode": {
    "name": "ipython",
    "version": 3
   },
   "file_extension": ".py",
   "mimetype": "text/x-python",
   "name": "python",
   "nbconvert_exporter": "python",
   "pygments_lexer": "ipython3",
   "version": "3.9.7"
  }
 },
 "nbformat": 4,
 "nbformat_minor": 4
}
