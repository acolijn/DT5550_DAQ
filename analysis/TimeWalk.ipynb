{
 "cells": [
  {
   "cell_type": "markdown",
   "id": "00b66ed0",
   "metadata": {},
   "source": [
    "### Time walk correction"
   ]
  },
  {
   "cell_type": "code",
   "execution_count": 4,
   "id": "e3761d68",
   "metadata": {},
   "outputs": [],
   "source": [
    "import numpy as np\n",
    "import matplotlib.pyplot as plt"
   ]
  },
  {
   "cell_type": "code",
   "execution_count": 5,
   "id": "f09b37cf",
   "metadata": {},
   "outputs": [],
   "source": [
    "template = np.fromfile('pulse_template.data')"
   ]
  },
  {
   "cell_type": "code",
   "execution_count": 12,
   "id": "6216ce72",
   "metadata": {},
   "outputs": [
    {
     "data": {
      "text/plain": [
       "[<matplotlib.lines.Line2D at 0x13290ed2388>]"
      ]
     },
     "execution_count": 12,
     "metadata": {},
     "output_type": "execute_result"
    },
    {
     "data": {
      "image/png": "[encoded data removed]",
      "text/plain": [
       "<Figure size 432x288 with 1 Axes>"
      ]
     },
     "metadata": {
      "needs_background": "light"
     },
     "output_type": "display_data"
    }
   ],
   "source": []
  },
  {
   "cell_type": "code",
   "execution_count": 47,
   "id": "8648cc2d",
   "metadata": {},
   "outputs": [],
   "source": [
    "from statsmodels.nonparametric.smoothers_lowess import lowess"
   ]
  },
  {
   "cell_type": "code",
   "execution_count": 71,
   "id": "e5a1502c",
   "metadata": {},
   "outputs": [
    {
     "name": "stdout",
     "output_type": "stream",
     "text": [
      "290 290\n"
     ]
    }
   ],
   "source": [
    "time = np.arange(0,290,1)\n",
    "print(len(time),len(template))\n",
    "template_smooth = lowess(template, time, is_sorted=True, frac=0.025, it=0)"
   ]
  },
  {
   "cell_type": "code",
   "execution_count": 73,
   "id": "e4084a6d",
   "metadata": {},
   "outputs": [
    {
     "data": {
      "text/plain": [
       "(0.0, 250.0)"
      ]
     },
     "execution_count": 73,
     "metadata": {},
     "output_type": "execute_result"
    },
    {
     "data": {
      "image/png": "[encoded data removed]",
      "text/plain": [
       "<Figure size 432x288 with 1 Axes>"
      ]
     },
     "metadata": {
      "needs_background": "light"
     },
     "output_type": "display_data"
    }
   ],
   "source": [
    "ran = (0,250)\n",
    "plt.plot(template[0:200],drawstyle='steps')\n",
    "plt.plot(template_smooth[0:200,0],template_smooth[0:200,1],drawstyle='steps')\n",
    "plt.xlim(ran)\n",
    "#plt.ylim([0,0.2])"
   ]
  },
  {
   "cell_type": "code",
   "execution_count": 221,
   "id": "a2001e3c",
   "metadata": {},
   "outputs": [],
   "source": [
    "def find_t0(ToT_target,template):\n",
    "    \n",
    "    tcorr = 0\n",
    "    vmin = 0\n",
    "    vmax = 1\n",
    "    \n",
    "    \n",
    "    idx=template.argmax()\n",
    "    itry = 0\n",
    "\n",
    "    scale = 0\n",
    "    while(1):\n",
    "        \n",
    "        scale = (vmin+vmax)/2\n",
    "\n",
    "        ft = template[0:idx] - scale\n",
    "        t0 = len(ft[ft<0])\n",
    "        \n",
    "        ft = template[idx:-1] - scale\n",
    "        t1 = len(ft[ft>0])+idx\n",
    "    \n",
    "        print(itry,' t0=',t0,' t1=',t1,' dt=',t1-t0)\n",
    "        itry=itry+1\n",
    "        \n",
    "        ToT_meas = t1- t0\n",
    "        \n",
    "        if ToT_meas>ToT_target:\n",
    "            vmin = scale\n",
    "        else:\n",
    "            vmax = scale\n",
    "                \n",
    "        if abs(ToT_meas-ToT_target)<1 or itry>100:\n",
    "            break\n",
    "    \n",
    "    tcorr = t0\n",
    "    \n",
    "    return tcorr, scale"
   ]
  },
  {
   "cell_type": "code",
   "execution_count": 222,
   "id": "f5858515",
   "metadata": {},
   "outputs": [
    {
     "name": "stdout",
     "output_type": "stream",
     "text": [
      "0  t0= 13  t1= 61  dt= 48\n",
      "1  t0= 18  t1= 47  dt= 29\n",
      "2  t0= 15  t1= 54  dt= 39\n",
      "3  t0= 14  t1= 57  dt= 43\n",
      "4  t0= 15  t1= 55  dt= 40\n"
     ]
    }
   ],
   "source": [
    "ToT = 40\n",
    "\n",
    "t0, S = find_t0(ToT,template_smooth[:,1])"
   ]
  },
  {
   "cell_type": "code",
   "execution_count": 225,
   "id": "87067ce6",
   "metadata": {},
   "outputs": [
    {
     "data": {
      "text/plain": [
       "<matplotlib.lines.Line2D at 0x13295e1ec48>"
      ]
     },
     "execution_count": 225,
     "metadata": {},
     "output_type": "execute_result"
    },
    {
     "data": {
      "image/png": "[encoded data removed]",
      "text/plain": [
       "<Figure size 432x288 with 1 Axes>"
      ]
     },
     "metadata": {
      "needs_background": "light"
     },
     "output_type": "display_data"
    }
   ],
   "source": [
    "plt.plot(template_smooth[0:150,1])\n",
    "plt.plot([t0,t0+ToT],[S,S],'-',color='red')\n",
    "plt.axhline(0, color='black',linewidth=1)\n"
   ]
  },
  {
   "cell_type": "code",
   "execution_count": null,
   "id": "ae65b7c5",
   "metadata": {},
   "outputs": [],
   "source": []
  }
 ],
 "metadata": {
  "kernelspec": {
   "display_name": "Python 3 (ipykernel)",
   "language": "python",
   "name": "python3"
  },
  "language_info": {
   "codemirror_mode": {
    "name": "ipython",
    "version": 3
   },
   "file_extension": ".py",
   "mimetype": "text/x-python",
   "name": "python",
   "nbconvert_exporter": "python",
   "pygments_lexer": "ipython3",
   "version": "3.7.11"
  }
 },
 "nbformat": 4,
 "nbformat_minor": 5
}
