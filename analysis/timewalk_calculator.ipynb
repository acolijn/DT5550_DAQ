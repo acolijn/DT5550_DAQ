{
 "cells": [
  {
   "cell_type": "markdown",
   "id": "00b66ed0",
   "metadata": {},
   "source": [
    "### Time walk correction"
   ]
  },
  {
   "cell_type": "code",
   "execution_count": 1,
   "id": "e3761d68",
   "metadata": {},
   "outputs": [],
   "source": [
    "import sys,time\n",
    "sys.path.insert(0,'python/')\n",
    "import struct\n",
    "import matplotlib.pyplot as plt\n",
    "import numpy as np\n",
    "# import data handling class\n",
    "from DT5550_Waveform import *"
   ]
  },
  {
   "cell_type": "code",
   "execution_count": 2,
   "id": "f09b37cf",
   "metadata": {},
   "outputs": [],
   "source": [
    "filename = '../../data/20211214_115511/waveform_20211214_115511_0.raw'"
   ]
  },
  {
   "cell_type": "code",
   "execution_count": 74,
   "id": "6216ce72",
   "metadata": {},
   "outputs": [
    {
     "name": "stdout",
     "output_type": "stream",
     "text": [
      "Open datafile: ../../data/20211214_115511/waveform_20211214_115511_0.raw\n",
      "6\n"
     ]
    }
   ],
   "source": [
    "#\n",
    "print('Open datafile:',filename)\n",
    "waves = DT5550_Waveform(file=filename)\n",
    "trace = []\n",
    "maxfound = 0\n",
    "index_max = -1\n",
    "while (waves.read_event() != -1):\n",
    "    idet= 0\n",
    "    #print('next event')\n",
    "    for idet in range(N_DETECTOR):\n",
    "        idx = 0\n",
    "        for i in range(200):\n",
    "            #print(i,waves.analog[idet,i],waves.digital[0,idet,i])\n",
    "            if waves.digital[0,idet,i] == 1:\n",
    "                idx = i+10\n",
    "                break\n",
    "        if idx>0:\n",
    "            trace.append(waves.analog[idet,idx+12:idx+200]-waves.config['detector_settings'][idet]['BASE'])\n",
    "            if trace[-1].max() > maxfound:\n",
    "                maxfound = trace[-1].max()\n",
    "                index_max = len(trace)-1\n",
    "\n",
    "print(index_max)"
   ]
  },
  {
   "cell_type": "code",
   "execution_count": 93,
   "id": "060a975c",
   "metadata": {},
   "outputs": [
    {
     "data": {
      "text/plain": [
       "Text(0, 0.5, 'timewalk (ns)')"
      ]
     },
     "execution_count": 93,
     "metadata": {},
     "output_type": "execute_result"
    },
    {
     "data": {
      "image/png": "[encoded data removed]",
      "text/plain": [
       "<Figure size 576x288 with 1 Axes>"
      ]
     },
     "metadata": {
      "needs_background": "light"
     },
     "output_type": "display_data"
    }
   ],
   "source": [
    "template = trace[index_max]/trace[index_max].max()\n",
    "idx = template.argmax()\n",
    "template = template[1:idx]\n",
    "clock_bins = np.arange(0,len(template),1)\n",
    "\n",
    "plt.figure(figsize=(8,4))\n",
    "plt.plot(template,clock_bins,drawstyle='steps')\n",
    "plt.plot([1,1],[0,25],'-.',linewidth=1,color='black')\n",
    "plt.xlabel('$\\\\alpha \\equiv V_{th}/V_{pk}$',fontsize=12)\n",
    "plt.ylabel('timewalk (ns)',fontsize=12)\n",
    "#plt.ylim([-0.1,1.1])"
   ]
  },
  {
   "cell_type": "code",
   "execution_count": 73,
   "id": "8648cc2d",
   "metadata": {},
   "outputs": [],
   "source": [
    "from statsmodels.nonparametric.smoothers_lowess import lowess"
   ]
  },
  {
   "cell_type": "code",
   "execution_count": null,
   "id": "e5a1502c",
   "metadata": {},
   "outputs": [],
   "source": [
    "time = np.arange(0,290,1)\n",
    "print(len(time),len(template))\n",
    "template_smooth = lowess(template, time, is_sorted=True, frac=0.025, it=0)"
   ]
  },
  {
   "cell_type": "code",
   "execution_count": null,
   "id": "e4084a6d",
   "metadata": {},
   "outputs": [],
   "source": [
    "ran = (0,250)\n",
    "plt.plot(template[0:200],drawstyle='steps')\n",
    "plt.plot(template_smooth[0:200,0],template_smooth[0:200,1],drawstyle='steps')\n",
    "plt.xlim(ran)\n",
    "#plt.ylim([0,0.2])"
   ]
  },
  {
   "cell_type": "code",
   "execution_count": null,
   "id": "a2001e3c",
   "metadata": {},
   "outputs": [],
   "source": [
    "def find_t0(ToT_target,template):\n",
    "    \n",
    "    tcorr = 0\n",
    "    vmin = 0\n",
    "    vmax = 1\n",
    "    \n",
    "    \n",
    "    idx=template.argmax()\n",
    "    itry = 0\n",
    "\n",
    "    scale = 0\n",
    "    while(1):\n",
    "        \n",
    "        scale = (vmin+vmax)/2\n",
    "\n",
    "        ft = template[0:idx] - scale\n",
    "        t0 = len(ft[ft<0])\n",
    "        \n",
    "        ft = template[idx:-1] - scale\n",
    "        t1 = len(ft[ft>0])+idx\n",
    "    \n",
    "        print(itry,' t0=',t0,' t1=',t1,' dt=',t1-t0)\n",
    "        itry=itry+1\n",
    "        \n",
    "        ToT_meas = t1- t0\n",
    "        \n",
    "        if ToT_meas>ToT_target:\n",
    "            vmin = scale\n",
    "        else:\n",
    "            vmax = scale\n",
    "                \n",
    "        if abs(ToT_meas-ToT_target)<1 or itry>100:\n",
    "            break\n",
    "    \n",
    "    tcorr = t0\n",
    "    \n",
    "    return tcorr, scale"
   ]
  },
  {
   "cell_type": "code",
   "execution_count": null,
   "id": "f5858515",
   "metadata": {},
   "outputs": [],
   "source": [
    "ToT = 40\n",
    "\n",
    "t0, S = find_t0(ToT,template_smooth[:,1])"
   ]
  },
  {
   "cell_type": "code",
   "execution_count": null,
   "id": "87067ce6",
   "metadata": {},
   "outputs": [],
   "source": [
    "plt.plot(template_smooth[0:150,1])\n",
    "plt.plot([t0,t0+ToT],[S,S],'-',color='red')\n",
    "plt.axhline(0, color='black',linewidth=1)\n"
   ]
  },
  {
   "cell_type": "code",
   "execution_count": null,
   "id": "ae65b7c5",
   "metadata": {},
   "outputs": [],
   "source": []
  }
 ],
 "metadata": {
  "kernelspec": {
   "display_name": "Python 3 (ipykernel)",
   "language": "python",
   "name": "python3"
  },
  "language_info": {
   "codemirror_mode": {
    "name": "ipython",
    "version": 3
   },
   "file_extension": ".py",
   "mimetype": "text/x-python",
   "name": "python",
   "nbconvert_exporter": "python",
   "pygments_lexer": "ipython3",
   "version": "3.7.11"
  }
 },
 "nbformat": 4,
 "nbformat_minor": 5
}
