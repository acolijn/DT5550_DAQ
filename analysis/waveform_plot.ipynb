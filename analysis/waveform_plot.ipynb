{
 "cells": [
  {
   "cell_type": "markdown",
   "id": "b7e4188f",
   "metadata": {},
   "source": [
    "### Plot waveforms\n",
    "\n",
    "* top row the analog signal as a function of time\n",
    "* bottom rows the digital signals: D0 = channel trigger, D1 = integration valid, D2 = baseline inhibit, D3 = channel triggered \n",
    "* for channel7 the digital signals are PKTRIG, FASTTRIG, VETO_RESET (needs to be fixed)"
   ]
  },
  {
   "cell_type": "code",
   "execution_count": 1,
   "id": "beb7a4d3",
   "metadata": {},
   "outputs": [],
   "source": [
    "import sys,time\n",
    "sys.path.insert(0,'python/')\n",
    "import struct\n",
    "import matplotlib.pyplot as plt\n",
    "import numpy as np\n",
    "# import data handling class\n",
    "from DT5550_Waveform import *\n",
    "from IPython import display"
   ]
  },
  {
   "cell_type": "code",
   "execution_count": 2,
   "id": "cd468261",
   "metadata": {},
   "outputs": [],
   "source": [
    "#filename = '../../data/20211214_115511/waveform_20211214_115511_10.raw'\n",
    "#filename = '../../DT5550_DAQ/daq/ReadoutClient/waveform.raw'\n",
    "indir = '../../data/20211217_171057/20211217_171057/'\n"
   ]
  },
  {
   "cell_type": "code",
   "execution_count": null,
   "id": "b13db418",
   "metadata": {},
   "outputs": [],
   "source": [
    "#\n",
    "# open the datfile\n",
    "#\n",
    "print('Open input directory:',indir)\n",
    "waves = DT5550_Waveform(indir=indir)\n",
    "while (waves.read_event() != -1):\n",
    "    #\n",
    "    # plot the waveform\n",
    "    #\n",
    "    fig = waves.plot_waveform(plot_range=(0,1022))    \n",
    "    #\n",
    "    # wait for input......\n",
    "    #\n",
    "    istat = int(input(\"Type: 0 to continue, 1 to make pdf, 2 to quit....\"))\n",
    "\n",
    "    \n",
    "    if istat==0:\n",
    "        print(\"continue......\")\n",
    "        display.clear_output(wait=True)\n",
    "    elif istat==1:\n",
    "        fname = 'event.pdf'\n",
    "        print(\"save figure as:\",fname)\n",
    "        fig.savefig(fname)\n",
    "        display.clear_output(wait=True)\n",
    "    else:\n",
    "        break\n",
    "\n",
    "    print('next event ......')"
   ]
  },
  {
   "cell_type": "code",
   "execution_count": null,
   "id": "15e024a2",
   "metadata": {},
   "outputs": [],
   "source": [
    "\n",
    "    "
   ]
  },
  {
   "cell_type": "code",
   "execution_count": null,
   "id": "c54a678c",
   "metadata": {},
   "outputs": [],
   "source": []
  }
 ],
 "metadata": {
  "kernelspec": {
   "display_name": "Python 3 (ipykernel)",
   "language": "python",
   "name": "python3"
  },
  "language_info": {
   "codemirror_mode": {
    "name": "ipython",
    "version": 3
   },
   "file_extension": ".py",
   "mimetype": "text/x-python",
   "name": "python",
   "nbconvert_exporter": "python",
   "pygments_lexer": "ipython3",
   "version": "3.7.11"
  }
 },
 "nbformat": 4,
 "nbformat_minor": 5
}
