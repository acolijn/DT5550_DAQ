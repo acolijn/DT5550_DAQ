{
 "cells": [
  {
   "cell_type": "markdown",
   "metadata": {},
   "source": [
    "### Analysis software development v2 \n",
    "\n",
    "Goal: establish smooth reading of the binary DAQ datafiles"
   ]
  },
  {
   "cell_type": "code",
   "execution_count": 1,
   "metadata": {
    "scrolled": false
   },
   "outputs": [],
   "source": [
    "import sys\n",
    "sys.path.insert(0,'python/')\n",
    "import struct\n",
    "import matplotlib.pyplot as plt\n",
    "from scipy.stats import norm\n",
    "\n",
    "# import data handling class\n",
    "from Na22Analysis import *\n",
    "import pandas as pd"
   ]
  },
  {
   "cell_type": "markdown",
   "metadata": {},
   "source": [
    "Select the runs to analyze"
   ]
  },
  {
   "cell_type": "code",
   "execution_count": 2,
   "metadata": {},
   "outputs": [],
   "source": [
    "runs = ['C:/data/20220217_092209/']"
   ]
  },
  {
   "cell_type": "markdown",
   "metadata": {},
   "source": [
    "Open a datafile and read the data"
   ]
  },
  {
   "cell_type": "code",
   "execution_count": 3,
   "metadata": {
    "scrolled": true
   },
   "outputs": [
    {
     "name": "stdout",
     "output_type": "stream",
     "text": [
      "DT5550:: no data files specified.... re-initialize before use\n"
     ]
    }
   ],
   "source": [
    "myNa22 = Na22Analysis(runs=runs)"
   ]
  },
  {
   "cell_type": "markdown",
   "metadata": {},
   "source": [
    "Loop over the data: either create the summary hd5 files or read them..."
   ]
  },
  {
   "cell_type": "code",
   "execution_count": 4,
   "metadata": {},
   "outputs": [
    {
     "name": "stdout",
     "output_type": "stream",
     "text": [
      "Na22Analysis:: Begin processing data....\n",
      "DT5550:: Data recorded with config:  C:/data/20220217_092209\\config_20220217_092209.json\n",
      "Na22Analysis:: create pandas dataframe for analysis.....\n",
      "DT5550:: Data recorded with config:  C:/data/20220217_092209\\config_20220217_092209.json\n",
      "C:/data/20220217_092209\\selected_data.hd5\n",
      "Na22Analysis:: Processing data - Done....\n"
     ]
    }
   ],
   "source": [
    "myNa22.process_data(max_files=9999,data='hd5')"
   ]
  },
  {
   "cell_type": "markdown",
   "metadata": {},
   "source": [
    "#### Plot time lifetime"
   ]
  },
  {
   "cell_type": "code",
   "execution_count": 81,
   "metadata": {},
   "outputs": [],
   "source": [
    "from scipy import special\n",
    "from lmfit import Model, Parameters, Minimizer, report_fit\n",
    "\n",
    "def delta_time(x, A0, A1, tau0, sigma, C, A2, tau2):\n",
    "    #tau = params['tau']\n",
    "    #sigma = params['sigma']\n",
    "    #A = params['A']\n",
    "    #C = params['C']\n",
    "    \n",
    "    lam = 1./tau0\n",
    "    \n",
    "    arg = -x**2/sigma**2/2\n",
    "    fval = A0*np.exp(arg)/sigma/np.sqrt(2*np.pi)\n",
    "    \n",
    "    arg0 = -lam*(x-sigma**2*lam/2.)\n",
    "    arg1 = (x-sigma**2*lam)/np.sqrt(2.)/sigma\n",
    "    fval = fval+A1*np.exp(arg0)*(1+special.erf(arg1))/2\n",
    "    \n",
    "    lam = 1./tau2\n",
    "    arg0 = -lam*(x-sigma**2*lam/2.)\n",
    "    arg1 = (x-sigma**2*lam)/np.sqrt(2.)/sigma\n",
    "    fval = fval+A2*np.exp(arg0)*(1+special.erf(arg1))/2\n",
    "\n",
    "    #fval = fval + A2*np.exp(-x/tau2)*np.heaviside(x,0)\n",
    "    \n",
    "    fval = fval + C\n",
    "    \n",
    "    return fval\n"
   ]
  },
  {
   "cell_type": "code",
   "execution_count": 83,
   "metadata": {},
   "outputs": [],
   "source": [
    "toffset=2.5\n",
    "tt=np.array(myNa22.df['dt'][(myNa22.df['sdt']<10)&(abs(myNa22.df['epos']-1022)<100)]) - toffset"
   ]
  },
  {
   "cell_type": "code",
   "execution_count": 98,
   "metadata": {},
   "outputs": [],
   "source": [
    "xr = (-500,1000)\n",
    "bins = 500\n",
    "cc = 140\n",
    "\n",
    "y, xe = np.histogram(tt, bins=bins, range=xr)\n",
    "x = .5 * (xe[:-1] + xe[1:])"
   ]
  },
  {
   "cell_type": "code",
   "execution_count": 99,
   "metadata": {},
   "outputs": [
    {
     "name": "stdout",
     "output_type": "stream",
     "text": [
      "[8.46431316e+06 6.41136874e+05 1.90528941e+00 1.87226703e+00\n",
      " 1.66201736e+02 2.62852862e+02 7.22207016e+01]\n"
     ]
    },
    {
     "data": {
      "image/png": "[encoded data removed]",
      "text/plain": [
       "<Figure size 720x360 with 1 Axes>"
      ]
     },
     "metadata": {
      "needs_background": "light"
     },
     "output_type": "display_data"
    }
   ],
   "source": [
    "from scipy.optimize import curve_fit\n",
    "\n",
    "plt.figure(figsize=(10,5))\n",
    "popt,pcov = curve_fit(delta_time, x, y, sigma=np.sqrt(y), \n",
    "                      p0=[1e7, 5e5, 2.4, 2.3, 300, 350, 100], \n",
    "                      bounds=((-np.inf, -np.inf, -np.inf, -np.inf, -np.inf, 0, 0), (np.inf, np.inf, np.inf, np.inf, np.inf, np.inf, np.inf)))\n",
    "#plt.errorbar(x,y,yerr=np.sqrt(y), marker='o', markersize=4, ls='none' ) \n",
    "plt.hist(tt,bins=bins, range=xr, histtype='step', linewidth=1)\n",
    "xx = np.linspace(xr[0],xr[1],1000)\n",
    "plt.grid()\n",
    "plt.plot(xx,delta_time(xx, *popt), color='green')\n",
    "plt.plot([xr[0],xr[1]],[popt[4],popt[4]], '--', color='green')\n",
    "print(popt)\n",
    "#plt.ylim([100,1000])\n",
    "plt.yscale('log')\n",
    "plt.xlim([-50,150])\n",
    "plt.xlabel('$\\Delta t$ (ns)',fontsize=14)\n",
    "plt.show()"
   ]
  },
  {
   "cell_type": "code",
   "execution_count": 96,
   "metadata": {},
   "outputs": [
    {
     "data": {
      "image/png": "[encoded data removed]",
      "text/plain": [
       "<Figure size 432x288 with 1 Axes>"
      ]
     },
     "metadata": {
      "needs_background": "light"
     },
     "output_type": "display_data"
    }
   ],
   "source": [
    "plt.hist(myNa22.df['epos'],bins=100)\n",
    "plt.show()"
   ]
  },
  {
   "cell_type": "code",
   "execution_count": null,
   "metadata": {},
   "outputs": [],
   "source": []
  }
 ],
 "metadata": {
  "kernelspec": {
   "display_name": "Python 3 (ipykernel)",
   "language": "python",
   "name": "python3"
  },
  "language_info": {
   "codemirror_mode": {
    "name": "ipython",
    "version": 3
   },
   "file_extension": ".py",
   "mimetype": "text/x-python",
   "name": "python",
   "nbconvert_exporter": "python",
   "pygments_lexer": "ipython3",
   "version": "3.7.11"
  }
 },
 "nbformat": 4,
 "nbformat_minor": 4
}
