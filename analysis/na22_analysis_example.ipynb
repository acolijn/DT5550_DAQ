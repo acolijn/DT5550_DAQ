{
 "cells": [
  {
   "cell_type": "markdown",
   "metadata": {},
   "source": [
    "### Analysis software development v2 \n",
    "\n",
    "Goal: establish smooth reading of the binary DAQ datafiles"
   ]
  },
  {
   "cell_type": "code",
   "execution_count": 1,
   "metadata": {
    "scrolled": false
   },
   "outputs": [],
   "source": [
    "import sys\n",
    "sys.path.insert(0,'python/')\n",
    "import struct\n",
    "import matplotlib.pyplot as plt\n",
    "from scipy.stats import norm\n",
    "\n",
    "# import data handling class\n",
    "from DT5550 import *"
   ]
  },
  {
   "cell_type": "markdown",
   "metadata": {},
   "source": [
    "Open a datafile and read the data"
   ]
  },
  {
   "cell_type": "code",
   "execution_count": 2,
   "metadata": {
    "scrolled": true
   },
   "outputs": [
    {
     "name": "stdout",
     "output_type": "stream",
     "text": [
      "DT5550:: Data recorded with config:  C:/data/20220217_092209\\config_20220217_092209.json\n",
      "DT5550:: Open data file: C:/data/20220217_092209\\data_20220217_092209_0.raw\n",
      "DT5550:: Open data file: C:/data/20220217_092209\\data_20220217_092209_1.raw\n",
      "DT5550:: Open data file: C:/data/20220217_092209\\data_20220217_092209_2.raw\n",
      "DT5550:: Open data file: C:/data/20220217_092209\\data_20220217_092209_3.raw\n",
      "DT5550:: Open data file: C:/data/20220217_092209\\data_20220217_092209_4.raw\n",
      "DT5550:: Open data file: C:/data/20220217_092209\\data_20220217_092209_5.raw\n",
      "DT5550:: Open data file: C:/data/20220217_092209\\data_20220217_092209_8.raw\n",
      "DT5550:: Open data file: C:/data/20220217_092209\\data_20220217_092209_9.raw\n",
      "DT5550:: Open data file: C:/data/20220217_092209\\data_20220217_092209_10.raw\n",
      "DT5550:: Open data file: C:/data/20220217_092209\\data_20220217_092209_11.raw\n",
      "DT5550:: Open data file: C:/data/20220217_092209\\data_20220217_092209_12.raw\n",
      "DT5550:: Open data file: C:/data/20220217_092209\\data_20220217_092209_13.raw\n",
      "DT5550:: Open data file: C:/data/20220217_092209\\data_20220217_092209_14.raw\n",
      "DT5550:: Open data file: C:/data/20220217_092209\\data_20220217_092209_15.raw\n",
      "DT5550:: Open data file: C:/data/20220217_092209\\data_20220217_092209_16.raw\n",
      "DT5550:: Open data file: C:/data/20220217_092209\\data_20220217_092209_17.raw\n",
      "DT5550:: Open data file: C:/data/20220217_092209\\data_20220217_092209_18.raw\n",
      "DT5550:: Open data file: C:/data/20220217_092209\\data_20220217_092209_19.raw\n",
      "DT5550:: Open data file: C:/data/20220217_092209\\data_20220217_092209_20.raw\n",
      "DT5550:: Open data file: C:/data/20220217_092209\\data_20220217_092209_21.raw\n",
      "DT5550:: Open data file: C:/data/20220217_092209\\data_20220217_092209_22.raw\n",
      "DT5550:: Open data file: C:/data/20220217_092209\\data_20220217_092209_23.raw\n",
      "DT5550:: Open data file: C:/data/20220217_092209\\data_20220217_092209_24.raw\n",
      "DT5550:: Open data file: C:/data/20220217_092209\\data_20220217_092209_26.raw\n",
      "DT5550:: Open data file: C:/data/20220217_092209\\data_20220217_092209_27.raw\n",
      "DT5550:: Open data file: C:/data/20220217_092209\\data_20220217_092209_28.raw\n",
      "DT5550:: Open data file: C:/data/20220217_092209\\data_20220217_092209_29.raw\n",
      "DT5550:: Open data file: C:/data/20220217_092209\\data_20220217_092209_30.raw\n",
      "DT5550:: Open data file: C:/data/20220217_092209\\data_20220217_092209_31.raw\n",
      "DT5550:: Open data file: C:/data/20220217_092209\\data_20220217_092209_32.raw\n",
      "DT5550:: Open data file: C:/data/20220217_092209\\data_20220217_092209_33.raw\n",
      "DT5550:: Open data file: C:/data/20220217_092209\\data_20220217_092209_34.raw\n",
      "DT5550:: Open data file: C:/data/20220217_092209\\data_20220217_092209_35.raw\n",
      "DT5550:: Open data file: C:/data/20220217_092209\\data_20220217_092209_36.raw\n",
      "DT5550:: Open data file: C:/data/20220217_092209\\data_20220217_092209_37.raw\n",
      "DT5550:: Open data file: C:/data/20220217_092209\\data_20220217_092209_38.raw\n",
      "DT5550:: Open data file: C:/data/20220217_092209\\data_20220217_092209_39.raw\n",
      "DT5550:: Open data file: C:/data/20220217_092209\\data_20220217_092209_40.raw\n",
      "DT5550:: Open data file: C:/data/20220217_092209\\data_20220217_092209_41.raw\n",
      "DT5550:: Open data file: C:/data/20220217_092209\\data_20220217_092209_42.raw\n",
      "DT5550:: Open data file: C:/data/20220217_092209\\data_20220217_092209_43.raw\n",
      "DT5550:: Open data file: C:/data/20220217_092209\\data_20220217_092209_44.raw\n",
      "DT5550:: Open data file: C:/data/20220217_092209\\data_20220217_092209_45.raw\n",
      "DT5550:: Open data file: C:/data/20220217_092209\\data_20220217_092209_46.raw\n",
      "DT5550:: Open data file: C:/data/20220217_092209\\data_20220217_092209_47.raw\n",
      "DT5550:: Open data file: C:/data/20220217_092209\\data_20220217_092209_48.raw\n",
      "DT5550:: Open data file: C:/data/20220217_092209\\data_20220217_092209_49.raw\n",
      "DT5550:: Open data file: C:/data/20220217_092209\\data_20220217_092209_50.raw\n",
      "DT5550:: Open data file: C:/data/20220217_092209\\data_20220217_092209_51.raw\n",
      "DT5550:: Open data file: C:/data/20220217_092209\\data_20220217_092209_52.raw\n",
      "DT5550:: Open data file: C:/data/20220217_092209\\data_20220217_092209_53.raw\n",
      "DT5550:: Open data file: C:/data/20220217_092209\\data_20220217_092209_54.raw\n",
      "DT5550:: Open data file: C:/data/20220217_092209\\data_20220217_092209_56.raw\n",
      "DT5550:: Open data file: C:/data/20220217_092209\\data_20220217_092209_57.raw\n",
      "DT5550:: Open data file: C:/data/20220217_092209\\data_20220217_092209_58.raw\n",
      "DT5550:: Open data file: C:/data/20220217_092209\\data_20220217_092209_59.raw\n",
      "DT5550:: Open data file: C:/data/20220217_092209\\data_20220217_092209_60.raw\n",
      "DT5550:: Open data file: C:/data/20220217_092209\\data_20220217_092209_61.raw\n",
      "DT5550:: Open data file: C:/data/20220217_092209\\data_20220217_092209_62.raw\n",
      "DT5550:: Open data file: C:/data/20220217_092209\\data_20220217_092209_63.raw\n",
      "DT5550:: Open data file: C:/data/20220217_092209\\data_20220217_092209_64.raw\n",
      "DT5550:: Open data file: C:/data/20220217_092209\\data_20220217_092209_65.raw\n",
      "DT5550:: Open data file: C:/data/20220217_092209\\data_20220217_092209_66.raw\n",
      "DT5550:: Open data file: C:/data/20220217_092209\\data_20220217_092209_67.raw\n",
      "DT5550:: Open data file: C:/data/20220217_092209\\data_20220217_092209_69.raw\n",
      "DT5550:: Open data file: C:/data/20220217_092209\\data_20220217_092209_70.raw\n",
      "DT5550:: Open data file: C:/data/20220217_092209\\data_20220217_092209_72.raw\n",
      "DT5550:: Open data file: C:/data/20220217_092209\\data_20220217_092209_73.raw\n",
      "DT5550:: Open data file: C:/data/20220217_092209\\data_20220217_092209_74.raw\n",
      "DT5550:: Open data file: C:/data/20220217_092209\\data_20220217_092209_75.raw\n",
      "DT5550:: Open data file: C:/data/20220217_092209\\data_20220217_092209_76.raw\n",
      "DT5550:: Open data file: C:/data/20220217_092209\\data_20220217_092209_77.raw\n",
      "DT5550:: Open data file: C:/data/20220217_092209\\data_20220217_092209_78.raw\n",
      "DT5550:: Open data file: C:/data/20220217_092209\\data_20220217_092209_79.raw\n",
      "DT5550:: Open data file: C:/data/20220217_092209\\data_20220217_092209_80.raw\n",
      "DT5550:: Open data file: C:/data/20220217_092209\\data_20220217_092209_82.raw\n",
      "DT5550:: Open data file: C:/data/20220217_092209\\data_20220217_092209_83.raw\n",
      "DT5550:: Open data file: C:/data/20220217_092209\\data_20220217_092209_84.raw\n",
      "DT5550:: Open data file: C:/data/20220217_092209\\data_20220217_092209_85.raw\n",
      "DT5550:: Open data file: C:/data/20220217_092209\\data_20220217_092209_86.raw\n",
      "DT5550:: Open data file: C:/data/20220217_092209\\data_20220217_092209_87.raw\n",
      "DT5550:: Open data file: C:/data/20220217_092209\\data_20220217_092209_88.raw\n",
      "DT5550:: Open data file: C:/data/20220217_092209\\data_20220217_092209_89.raw\n",
      "Processing done\n"
     ]
    }
   ],
   "source": [
    "#\n",
    "# open the datfile / data directory\n",
    "#\n",
    "    \n",
    "#\n",
    "# loop over all the events\n",
    "#\n",
    "dt_max = 10\n",
    "\n",
    "Etot = []\n",
    "Etot_sel = []\n",
    "tt = []\n",
    "tt3 = []\n",
    "\n",
    "nmax = 9999\n",
    "\n",
    "#\n",
    "# connect to the data\n",
    "#\n",
    "io = DT5550(indir='C:/data/20220217_092209/')\n",
    "\n",
    "nf = 0\n",
    "\n",
    "dtime = []\n",
    "for file in io.filenames:\n",
    "    io.open_data(file)\n",
    "    nf = nf + 1\n",
    "    if nf>nmax:\n",
    "        break\n",
    "    while io.read_event() == 0: \n",
    "        # data: io.Q[0:ndet-1] -> energy\n",
    "        #       io.ph[0:ndet-1] -> peak height\n",
    "        #       io.t[0:ndet-1] -> time without timewalk correction\n",
    "        #       io.tc[0:ndet-1] -> time with timewalk correction\n",
    "        #       io.valid[0:ndet-1] -> valid bit = 1 for valid data\n",
    "        #       io.R[0:ndet-1] -> peak/area ratio\n",
    "        \n",
    "        #\n",
    "        # count the number of valida hits in this event\n",
    "        #\n",
    "        nh = io.valid.sum()\n",
    "        \n",
    "        Etot.append(io.Q.sum())\n",
    "        \n",
    "        #\n",
    "        # select events where \n",
    "        # 1. the total energy of a Na22 decay is observed\n",
    "        # 2. there are 3 or more detectors that registers an energy deposit\n",
    "        #\n",
    "        if (nh>=3) and (io.Q.sum()>2150) and (io.Q.sum()<2400):\n",
    "            #\n",
    "            # 1274 gamma ray from Ne22\n",
    "            #\n",
    "            i0 = -1 # index of detector that registers the 1274keV event \n",
    "            for idet in range(N_DETECTOR):\n",
    "                #\n",
    "                # if the energy is within 100keV of the 1274keV gamma ray line, we found it (check if this is OK)\n",
    "                #\n",
    "                rr = io.R[idet]\n",
    "                rmean = io.config['detector_settings'][idet]['RMEAN']\n",
    "                rsig = io.config['detector_settings'][idet]['RSIGMA']\n",
    "                \n",
    "                if abs(io.Q[idet]-1274)<100 and (io.valid[idet]) and (abs(rr-rmean) < 3*rsig):\n",
    "                    #print('1274keV ', idet,'t =',io.tc[idet],'E =',io.Q[idet])\n",
    "                    t0 = io.tc[idet]\n",
    "                    i0 = idet\n",
    "         \n",
    "            #\n",
    "            # look at the other energy deposits in the event\n",
    "            #\n",
    "            nn = 0\n",
    "            esum = 0\n",
    "            dt = []\n",
    "            for idet in range(N_DETECTOR):\n",
    "                # if the hits is valid AND the detector is not the one that saw the 1274keV gamma ray\n",
    "                rr = io.R[idet]\n",
    "                rmean = io.config['detector_settings'][idet]['RMEAN']\n",
    "                rsig = io.config['detector_settings'][idet]['RSIGMA']\n",
    "                if (io.valid[idet]) and (idet != i0) and (abs(rr - rmean) < 3*rsig):\n",
    "                    nn = nn + 1\n",
    "                    esum = esum + io.Q[idet]\n",
    "                    dt.append(io.tc[idet]-t0) # time difference wrt to 1274keV gamma ray\n",
    "            dt = np.array(dt)\n",
    "            \n",
    "            #\n",
    "            # continue with this event if:\n",
    "            # 1. there are two or more hits beside the 1274keV gamma ray (should be most, due to earlier selection)\n",
    "            # 2. a 1274keV gamma ray is actually found\n",
    "            #\n",
    "            if (nn>=2) and (i0!=-1):\n",
    "                # the energy of the hits other than the 1274keV gamma ray is within 100keV of 2*m_electron\n",
    "                if abs(esum-1022)<100:\n",
    "                    #\n",
    "                    # calculate the variance of the time-difference of the 'other' hits\n",
    "                    #\n",
    "                    ss = np.sqrt(dt.var())\n",
    "                    #\n",
    "                    # if the other hits are within 10ns (!) then we are likely dealing with a true multi-gamma decay (mult is 2, 3, ..)\n",
    "                    #\n",
    "                    if ss<10: \n",
    "                        tt.append(dt.mean())\n",
    "                        Etot_sel.append(io.Q.sum())\n",
    "                        if nn == 3:\n",
    "                            tt3.append(dt.mean())\n",
    "                    \n",
    "print('Processing done')\n",
    "\n",
    "Etot = np.array(Etot,dtype=object)\n",
    "Etot_sel = np.array(Etot_sel,dtype=object)\n",
    "tt3 = np.array(tt3,dtype=object)\n",
    "\n",
    "\n",
    "#r = np.array(r, dtype=object)"
   ]
  },
  {
   "cell_type": "markdown",
   "metadata": {},
   "source": [
    "#### Plot time lifetime"
   ]
  },
  {
   "cell_type": "code",
   "execution_count": 25,
   "metadata": {},
   "outputs": [],
   "source": [
    "from scipy import special\n",
    "from lmfit import Model, Parameters, Minimizer, report_fit\n",
    "\n",
    "def fcn2min(params, x, data):\n",
    "    \n",
    "    A0 = params['A0']\n",
    "    sigma = params['sigma']\n",
    "    const = params['const']\n",
    "    \n",
    "    arg = -x**2/sigma**2/2\n",
    "    model = A0*np.exp(arg)/sigma/np.sqrt(2*np.pi) + const\n",
    "    return model - data\n",
    "\n",
    "def delta_time(x, A0, A1, tau0, sigma, C, A2, tau2):\n",
    "    #tau = params['tau']\n",
    "    #sigma = params['sigma']\n",
    "    #A = params['A']\n",
    "    #C = params['C']\n",
    "    \n",
    "    lam = 1./tau0\n",
    "    \n",
    "    arg = -x**2/sigma**2/2\n",
    "    fval = A0*np.exp(arg)/sigma/np.sqrt(2*np.pi)\n",
    "    \n",
    "    arg0 = -lam*(x-sigma**2*lam/2.)\n",
    "    arg1 = (x-sigma**2*lam)/np.sqrt(2.)/sigma\n",
    "    fval = fval+A1*np.exp(arg0)*(1+special.erf(arg1))/2\n",
    "\n",
    "    fval = fval + A2*np.exp(-x/tau2)*np.heaviside(x,0)\n",
    "    \n",
    "    fval = fval + C\n",
    "    \n",
    "    return fval\n",
    "\n",
    "def delta_time1(x, A0, A1, tau0, sigma, C, A2, tau2, f):\n",
    "    #tau = params['tau']\n",
    "    #sigma = params['sigma']\n",
    "    #A = params['A']\n",
    "    #C = params['C']\n",
    "    \n",
    "    lam = 1./tau0\n",
    "    \n",
    "    arg0 = -x**2/sigma**2/2\n",
    "    \n",
    "    sigma1=2.5*sigma\n",
    "    arg1 = -x**2/sigma1**2/2\n",
    "    fval = A0*(np.exp(arg0)/sigma/np.sqrt(2*np.pi)*f + (1-f)*np.exp(arg1)/sigma1/np.sqrt(2*np.pi))\n",
    "    \n",
    "    arg0 = -lam*(x-sigma**2*lam/2.)\n",
    "    arg1 = (x-sigma**2*lam)/np.sqrt(2.)/sigma\n",
    "    fval = fval+A1*np.exp(arg0)*(1+special.erf(arg1))/2\n",
    "\n",
    "    fval = fval + A2*np.exp(-x/tau2)*np.heaviside(x,0)\n",
    "    \n",
    "    fval = fval + C\n",
    "    \n",
    "    return fval"
   ]
  },
  {
   "cell_type": "code",
   "execution_count": 26,
   "metadata": {},
   "outputs": [],
   "source": [
    "def signal(t, c, a, tau):\n",
    "    return c+a*np.exp(-t/tau)"
   ]
  },
  {
   "cell_type": "code",
   "execution_count": 44,
   "metadata": {},
   "outputs": [],
   "source": [
    "#tt=np.array(tt)+0.1"
   ]
  },
  {
   "cell_type": "code",
   "execution_count": 71,
   "metadata": {},
   "outputs": [],
   "source": [
    "xr = (-250,500)\n",
    "bins = 125\n",
    "cc = 140\n",
    "\n",
    "y, xe = np.histogram(tt, bins=bins, range=xr)\n",
    "x = .5 * (xe[:-1] + xe[1:])\n",
    "\n",
    "#for i in range(len(x)):\n",
    "#    print(x[i], y[i])"
   ]
  },
  {
   "cell_type": "code",
   "execution_count": 74,
   "metadata": {},
   "outputs": [
    {
     "name": "stdout",
     "output_type": "stream",
     "text": [
      "[1.70575786e+07 6.78295754e+05 2.26881917e+00 2.34626444e+00\n",
      " 3.44094258e+02 4.17533999e+02 7.85140075e+01]\n"
     ]
    },
    {
     "data": {
      "image/png": "[encoded data removed]",
      "text/plain": [
       "<Figure size 720x360 with 1 Axes>"
      ]
     },
     "metadata": {
      "needs_background": "light"
     },
     "output_type": "display_data"
    }
   ],
   "source": [
    "from scipy.optimize import curve_fit\n",
    "\n",
    "plt.figure(figsize=(10,5))\n",
    "popt,pcov = curve_fit(delta_time, x, y, sigma=np.sqrt(y), \n",
    "                      p0=[1e7, 7e4, 4.4, 2.3, 445, 100, 100], \n",
    "                      bounds=((-np.inf, -np.inf, -np.inf, -np.inf, -np.inf, 0, 0), (np.inf, np.inf, np.inf, np.inf, np.inf, np.inf, np.inf)))\n",
    "#plt.errorbar(x,y,yerr=np.sqrt(y), marker='o', markersize=4, ls='none' ) \n",
    "plt.hist(tt,bins=bins, range=xr, histtype='step', linewidth=2)\n",
    "xx = np.linspace(xr[0],xr[1],1000)\n",
    "plt.grid()\n",
    "plt.plot(xx,delta_time(xx, *popt), color='green')\n",
    "plt.plot([xr[0],xr[1]],[popt[4],popt[4]], '--', color='green')\n",
    "print(popt)\n",
    "#plt.ylim([100,1000])\n",
    "plt.yscale('log')\n",
    "plt.xlabel('$\\Delta t$ (ns)',fontsize=14)\n",
    "plt.show()"
   ]
  },
  {
   "cell_type": "code",
   "execution_count": 64,
   "metadata": {},
   "outputs": [
    {
     "data": {
      "image/png": "[encoded data removed]",
      "text/plain": [
       "<Figure size 432x288 with 1 Axes>"
      ]
     },
     "metadata": {
      "needs_background": "light"
     },
     "output_type": "display_data"
    }
   ],
   "source": [
    "bins=75\n",
    "plt.hist(Etot,bins=bins, range=(2000,2500), histtype='step')\n",
    "plt.hist(Etot_sel,bins=bins, range=(2000,2500), histtype='step')\n",
    "plt.yscale('log')\n",
    "plt.show()"
   ]
  },
  {
   "cell_type": "code",
   "execution_count": 107,
   "metadata": {},
   "outputs": [
    {
     "data": {
      "image/png": "[encoded data removed]",
      "text/plain": [
       "<Figure size 432x288 with 1 Axes>"
      ]
     },
     "metadata": {
      "needs_background": "light"
     },
     "output_type": "display_data"
    }
   ],
   "source": [
    "bins = 500\n",
    "plt.hist(tt3,bins=bins,range=(-200,500),histtype='step')\n",
    "yy = 5\n",
    "plt.plot([-200,500],[yy,yy],'--',color='green')\n",
    "plt.grid()\n",
    "xx=np.linspace(0,500,100)\n",
    "plt.plot(xx,8*np.exp(-xx/100)+5,color='green')\n",
    "plt.yscale('log')\n",
    "plt.show()"
   ]
  },
  {
   "cell_type": "code",
   "execution_count": 10,
   "metadata": {},
   "outputs": [
    {
     "data": {
      "text/plain": [
       "2.0"
      ]
     },
     "execution_count": 10,
     "metadata": {},
     "output_type": "execute_result"
    }
   ],
   "source": [
    "special.erfc(-10000)"
   ]
  },
  {
   "cell_type": "code",
   "execution_count": null,
   "metadata": {},
   "outputs": [],
   "source": []
  }
 ],
 "metadata": {
  "kernelspec": {
   "display_name": "Python 3 (ipykernel)",
   "language": "python",
   "name": "python3"
  },
  "language_info": {
   "codemirror_mode": {
    "name": "ipython",
    "version": 3
   },
   "file_extension": ".py",
   "mimetype": "text/x-python",
   "name": "python",
   "nbconvert_exporter": "python",
   "pygments_lexer": "ipython3",
   "version": "3.7.11"
  }
 },
 "nbformat": 4,
 "nbformat_minor": 4
}
